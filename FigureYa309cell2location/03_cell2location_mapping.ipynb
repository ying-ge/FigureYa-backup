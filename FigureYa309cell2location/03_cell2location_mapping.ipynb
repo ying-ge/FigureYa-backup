{
 "cells": [
  {
   "cell_type": "code",
   "execution_count": 1,
   "id": "e03354cc-288e-4731-8f42-742374d99e58",
   "metadata": {},
   "outputs": [
    {
     "name": "stderr",
     "output_type": "stream",
     "text": [
      "Global seed set to 0\n",
      "/home/conda/envs/scrna/lib/python3.9/site-packages/pytorch_lightning/utilities/warnings.py:53: LightningDeprecationWarning: pytorch_lightning.utilities.warnings.rank_zero_deprecation has been deprecated in v1.6 and will be removed in v1.8. Use the equivalent function from the pytorch_lightning.utilities.rank_zero module instead.\n",
      "  new_rank_zero_deprecation(\n",
      "/home/conda/envs/scrna/lib/python3.9/site-packages/pytorch_lightning/utilities/warnings.py:58: LightningDeprecationWarning: The `pytorch_lightning.loggers.base.rank_zero_experiment` is deprecated in v1.7 and will be removed in v1.9. Please use `pytorch_lightning.loggers.logger.rank_zero_experiment` instead.\n",
      "  return new_rank_zero_deprecation(*args, **kwargs)\n"
     ]
    }
   ],
   "source": [
    "import scanpy as sc\n",
    "import numpy as np\n",
    "import pandas as pd\n",
    "import matplotlib.pyplot as plt\n",
    "import matplotlib as mpl\n",
    "\n",
    "import cell2location\n",
    "\n",
    "from matplotlib import rcParams\n",
    "rcParams['pdf.fonttype'] = 42 # enables correct plotting of text for PDFs"
   ]
  },
  {
   "cell_type": "code",
   "execution_count": 2,
   "id": "69ba2882-ffe6-4ec9-b919-a62a4fcfd083",
   "metadata": {},
   "outputs": [],
   "source": [
    "results_folder = './results/'\n",
    "\n",
    "# create paths and names to results folders for reference regression and cell2location models\n",
    "ref_run_name = f'{results_folder}/reference_signatures'\n",
    "run_name = f'{results_folder}/cell2location_map'"
   ]
  },
  {
   "cell_type": "markdown",
   "id": "dcb1e2e5-b93c-4691-88f5-74a9d5a01176",
   "metadata": {},
   "source": [
    "## Load datasets"
   ]
  },
  {
   "cell_type": "code",
   "execution_count": 3,
   "id": "ccef35b5-d44a-4483-badd-f834c2faa0f0",
   "metadata": {},
   "outputs": [],
   "source": [
    "# Read data\n",
    "adata_vis = sc.read(\"data/visium_merge_inter_upload.h5ad\")"
   ]
  },
  {
   "cell_type": "code",
   "execution_count": 4,
   "id": "1b897e27-26e6-4ec4-8c2a-779ff5ba6f70",
   "metadata": {},
   "outputs": [
    {
     "data": {
      "text/plain": [
       "AnnData object with n_obs × n_vars = 27912 × 36601\n",
       "    obs: 'in_tissue', 'array_row', 'array_col', 'sample', 'n_genes_by_counts', 'log1p_n_genes_by_counts', 'total_counts', 'log1p_total_counts', 'pct_counts_in_top_50_genes', 'pct_counts_in_top_100_genes', 'pct_counts_in_top_200_genes', 'pct_counts_in_top_500_genes', 'mt_frac', 'donor_id', 'region'\n",
       "    var: 'feature_types', 'genome', 'SYMBOL', 'mt', 'n_cells_by_counts-6800STDY12499406', 'mean_counts-6800STDY12499406', 'log1p_mean_counts-6800STDY12499406', 'pct_dropout_by_counts-6800STDY12499406', 'total_counts-6800STDY12499406', 'log1p_total_counts-6800STDY12499406', 'n_cells_by_counts-6800STDY12499407', 'mean_counts-6800STDY12499407', 'log1p_mean_counts-6800STDY12499407', 'pct_dropout_by_counts-6800STDY12499407', 'total_counts-6800STDY12499407', 'log1p_total_counts-6800STDY12499407', 'n_cells_by_counts-6800STDY12499408', 'mean_counts-6800STDY12499408', 'log1p_mean_counts-6800STDY12499408', 'pct_dropout_by_counts-6800STDY12499408', 'total_counts-6800STDY12499408', 'log1p_total_counts-6800STDY12499408', 'n_cells_by_counts-6800STDY12499409', 'mean_counts-6800STDY12499409', 'log1p_mean_counts-6800STDY12499409', 'pct_dropout_by_counts-6800STDY12499409', 'total_counts-6800STDY12499409', 'log1p_total_counts-6800STDY12499409', 'n_cells_by_counts-6800STDY12499410', 'mean_counts-6800STDY12499410', 'log1p_mean_counts-6800STDY12499410', 'pct_dropout_by_counts-6800STDY12499410', 'total_counts-6800STDY12499410', 'log1p_total_counts-6800STDY12499410', 'n_cells_by_counts-6800STDY12499411', 'mean_counts-6800STDY12499411', 'log1p_mean_counts-6800STDY12499411', 'pct_dropout_by_counts-6800STDY12499411', 'total_counts-6800STDY12499411', 'log1p_total_counts-6800STDY12499411', 'n_cells_by_counts-6800STDY12499412', 'mean_counts-6800STDY12499412', 'log1p_mean_counts-6800STDY12499412', 'pct_dropout_by_counts-6800STDY12499412', 'total_counts-6800STDY12499412', 'log1p_total_counts-6800STDY12499412', 'n_cells_by_counts-6800STDY12499413', 'mean_counts-6800STDY12499413', 'log1p_mean_counts-6800STDY12499413', 'pct_dropout_by_counts-6800STDY12499413', 'total_counts-6800STDY12499413', 'log1p_total_counts-6800STDY12499413', 'n_cells_by_counts-6800STDY12499502', 'mean_counts-6800STDY12499502', 'log1p_mean_counts-6800STDY12499502', 'pct_dropout_by_counts-6800STDY12499502', 'total_counts-6800STDY12499502', 'log1p_total_counts-6800STDY12499502', 'n_cells_by_counts-6800STDY12499503', 'mean_counts-6800STDY12499503', 'log1p_mean_counts-6800STDY12499503', 'pct_dropout_by_counts-6800STDY12499503', 'total_counts-6800STDY12499503', 'log1p_total_counts-6800STDY12499503', 'n_cells_by_counts-6800STDY12499504', 'mean_counts-6800STDY12499504', 'log1p_mean_counts-6800STDY12499504', 'pct_dropout_by_counts-6800STDY12499504', 'total_counts-6800STDY12499504', 'log1p_total_counts-6800STDY12499504', 'n_cells_by_counts-6800STDY12499505', 'mean_counts-6800STDY12499505', 'log1p_mean_counts-6800STDY12499505', 'pct_dropout_by_counts-6800STDY12499505', 'total_counts-6800STDY12499505', 'log1p_total_counts-6800STDY12499505', 'n_cells_by_counts-6800STDY12499506', 'mean_counts-6800STDY12499506', 'log1p_mean_counts-6800STDY12499506', 'pct_dropout_by_counts-6800STDY12499506', 'total_counts-6800STDY12499506', 'log1p_total_counts-6800STDY12499506', 'n_cells_by_counts-6800STDY12499507', 'mean_counts-6800STDY12499507', 'log1p_mean_counts-6800STDY12499507', 'pct_dropout_by_counts-6800STDY12499507', 'total_counts-6800STDY12499507', 'log1p_total_counts-6800STDY12499507', 'n_cells_by_counts-6800STDY12499508', 'mean_counts-6800STDY12499508', 'log1p_mean_counts-6800STDY12499508', 'pct_dropout_by_counts-6800STDY12499508', 'total_counts-6800STDY12499508', 'log1p_total_counts-6800STDY12499508', 'n_cells_by_counts-6800STDY12499509', 'mean_counts-6800STDY12499509', 'log1p_mean_counts-6800STDY12499509', 'pct_dropout_by_counts-6800STDY12499509', 'total_counts-6800STDY12499509', 'log1p_total_counts-6800STDY12499509'\n",
       "    uns: 'sample_colors', 'spatial'\n",
       "    obsm: 'spatial'"
      ]
     },
     "execution_count": 4,
     "metadata": {},
     "output_type": "execute_result"
    }
   ],
   "source": [
    "adata_vis"
   ]
  },
  {
   "cell_type": "markdown",
   "id": "1548c482-e981-4fd1-8146-8bde33996899",
   "metadata": {},
   "source": [
    "`important` 注意adata_vis的数据结构：\n",
    "1. 切片图像保存于`adata_vis.uns['spatial']`\n",
    "2. 在cell2location中，切片转录组默认使用`adata_vis.obs['sample']`用于区分不同切片的数据\n",
    "\n",
    "修改`adata_vis.uns['spatial']`的key值使之和`adata_vis.obs['sample']`保持一致，这样才能使用`select_slide`函数subset切片"
   ]
  },
  {
   "cell_type": "code",
   "execution_count": 5,
   "id": "646df9a2-a888-44c7-9b95-d6d8a66dcd06",
   "metadata": {},
   "outputs": [],
   "source": [
    "for k in list(adata_vis.uns['spatial'].keys()):\n",
    "    adata_vis.uns['spatial'][k.split('_')[3]] = adata_vis.uns['spatial'].pop(k) "
   ]
  },
  {
   "cell_type": "code",
   "execution_count": 6,
   "id": "632fc108-cc55-4dea-9145-55de904aa36d",
   "metadata": {},
   "outputs": [
    {
     "data": {
      "text/plain": [
       "['6800STDY12499406',\n",
       " '6800STDY12499407',\n",
       " '6800STDY12499410',\n",
       " '6800STDY12499411',\n",
       " '6800STDY12499408',\n",
       " '6800STDY12499409',\n",
       " '6800STDY12499412',\n",
       " '6800STDY12499413',\n",
       " '6800STDY12499502',\n",
       " '6800STDY12499503',\n",
       " '6800STDY12499504',\n",
       " '6800STDY12499505',\n",
       " '6800STDY12499506',\n",
       " '6800STDY12499507',\n",
       " '6800STDY12499508',\n",
       " '6800STDY12499509']"
      ]
     },
     "execution_count": 6,
     "metadata": {},
     "output_type": "execute_result"
    }
   ],
   "source": [
    "list(adata_vis.uns['spatial'].keys())"
   ]
  },
  {
   "cell_type": "code",
   "execution_count": 7,
   "id": "2ed5891a-ada0-47d5-bc17-f1d35f314ecf",
   "metadata": {},
   "outputs": [
    {
     "data": {
      "text/plain": [
       "sample            donor_id\n",
       "6800STDY12499406  PD43824     3352\n",
       "6800STDY12499508  PD47465     2831\n",
       "6800STDY12499509  PD47465     2811\n",
       "6800STDY12499502  PD45814     2700\n",
       "6800STDY12499504  PD45815     2670\n",
       "6800STDY12499503  PD45814     2661\n",
       "6800STDY12499505  PD45815     2580\n",
       "6800STDY12499507  PD45816     2145\n",
       "6800STDY12499409  PD47512     2085\n",
       "6800STDY12499411  PD47171     2048\n",
       "6800STDY12499506  PD45816     2029\n",
       "dtype: int64"
      ]
     },
     "execution_count": 7,
     "metadata": {},
     "output_type": "execute_result"
    }
   ],
   "source": [
    "adata_vis.obs[['sample', 'donor_id']].value_counts()"
   ]
  },
  {
   "cell_type": "markdown",
   "id": "b45eff96-a7f4-4fa1-ab49-2247ddb5c7d3",
   "metadata": {},
   "source": [
    "导入上一步的结果：reference signature"
   ]
  },
  {
   "cell_type": "code",
   "execution_count": 8,
   "id": "e1834761-0d9a-4d55-bfa5-28709b4c843b",
   "metadata": {},
   "outputs": [
    {
     "data": {
      "text/html": [
       "<div>\n",
       "<style scoped>\n",
       "    .dataframe tbody tr th:only-of-type {\n",
       "        vertical-align: middle;\n",
       "    }\n",
       "\n",
       "    .dataframe tbody tr th {\n",
       "        vertical-align: top;\n",
       "    }\n",
       "\n",
       "    .dataframe thead th {\n",
       "        text-align: right;\n",
       "    }\n",
       "</style>\n",
       "<table border=\"1\" class=\"dataframe\">\n",
       "  <thead>\n",
       "    <tr style=\"text-align: right;\">\n",
       "      <th></th>\n",
       "      <th>ACKR+_EC</th>\n",
       "      <th>Activated KRT+ NK</th>\n",
       "      <th>Activated NK</th>\n",
       "      <th>Activated_B-AREG</th>\n",
       "      <th>Activated_B-RHOB</th>\n",
       "      <th>CCL5+_EC</th>\n",
       "      <th>CD</th>\n",
       "      <th>CD4+T_Act-CCL5</th>\n",
       "      <th>CD4+T_Act-CH25H</th>\n",
       "      <th>CD4+T_Act-CXCR4</th>\n",
       "      <th>...</th>\n",
       "      <th>TR Mac.3</th>\n",
       "      <th>Type A intercalated cell</th>\n",
       "      <th>Type B intercalated cell</th>\n",
       "      <th>cDC1</th>\n",
       "      <th>cDC2</th>\n",
       "      <th>cir_NK-PTGDS</th>\n",
       "      <th>cir_NK-S100B</th>\n",
       "      <th>gdT_Vd1</th>\n",
       "      <th>gdT_Vd2</th>\n",
       "      <th>pDC</th>\n",
       "    </tr>\n",
       "  </thead>\n",
       "  <tbody>\n",
       "    <tr>\n",
       "      <th>FO538757.2</th>\n",
       "      <td>0.095478</td>\n",
       "      <td>0.090512</td>\n",
       "      <td>0.110985</td>\n",
       "      <td>0.055967</td>\n",
       "      <td>0.075919</td>\n",
       "      <td>0.074606</td>\n",
       "      <td>0.149572</td>\n",
       "      <td>0.084705</td>\n",
       "      <td>0.095956</td>\n",
       "      <td>0.096498</td>\n",
       "      <td>...</td>\n",
       "      <td>0.128304</td>\n",
       "      <td>0.104031</td>\n",
       "      <td>0.250288</td>\n",
       "      <td>0.090729</td>\n",
       "      <td>0.136187</td>\n",
       "      <td>0.130000</td>\n",
       "      <td>0.084518</td>\n",
       "      <td>0.122680</td>\n",
       "      <td>0.083116</td>\n",
       "      <td>0.134055</td>\n",
       "    </tr>\n",
       "    <tr>\n",
       "      <th>NOC2L</th>\n",
       "      <td>0.138662</td>\n",
       "      <td>0.127062</td>\n",
       "      <td>0.117580</td>\n",
       "      <td>0.117451</td>\n",
       "      <td>0.114746</td>\n",
       "      <td>0.082101</td>\n",
       "      <td>0.170084</td>\n",
       "      <td>0.105224</td>\n",
       "      <td>0.101670</td>\n",
       "      <td>0.108131</td>\n",
       "      <td>...</td>\n",
       "      <td>0.028709</td>\n",
       "      <td>0.076386</td>\n",
       "      <td>0.117015</td>\n",
       "      <td>0.069693</td>\n",
       "      <td>0.090842</td>\n",
       "      <td>0.123789</td>\n",
       "      <td>0.110760</td>\n",
       "      <td>0.140441</td>\n",
       "      <td>0.105666</td>\n",
       "      <td>0.130683</td>\n",
       "    </tr>\n",
       "    <tr>\n",
       "      <th>PERM1</th>\n",
       "      <td>0.002008</td>\n",
       "      <td>0.000344</td>\n",
       "      <td>0.000227</td>\n",
       "      <td>0.001351</td>\n",
       "      <td>0.002163</td>\n",
       "      <td>0.003590</td>\n",
       "      <td>0.025246</td>\n",
       "      <td>0.001045</td>\n",
       "      <td>0.008251</td>\n",
       "      <td>0.000158</td>\n",
       "      <td>...</td>\n",
       "      <td>0.003109</td>\n",
       "      <td>0.005901</td>\n",
       "      <td>0.482280</td>\n",
       "      <td>0.000646</td>\n",
       "      <td>0.001460</td>\n",
       "      <td>0.000493</td>\n",
       "      <td>0.003901</td>\n",
       "      <td>0.001227</td>\n",
       "      <td>0.000922</td>\n",
       "      <td>0.001944</td>\n",
       "    </tr>\n",
       "    <tr>\n",
       "      <th>HES4</th>\n",
       "      <td>0.011849</td>\n",
       "      <td>0.006743</td>\n",
       "      <td>0.051286</td>\n",
       "      <td>0.004431</td>\n",
       "      <td>0.004672</td>\n",
       "      <td>0.239193</td>\n",
       "      <td>0.127295</td>\n",
       "      <td>0.005886</td>\n",
       "      <td>0.009522</td>\n",
       "      <td>0.002642</td>\n",
       "      <td>...</td>\n",
       "      <td>0.009600</td>\n",
       "      <td>0.007545</td>\n",
       "      <td>0.044294</td>\n",
       "      <td>0.013336</td>\n",
       "      <td>0.001851</td>\n",
       "      <td>0.074820</td>\n",
       "      <td>0.109686</td>\n",
       "      <td>0.005783</td>\n",
       "      <td>0.001141</td>\n",
       "      <td>0.012366</td>\n",
       "    </tr>\n",
       "    <tr>\n",
       "      <th>ISG15</th>\n",
       "      <td>0.412864</td>\n",
       "      <td>0.386006</td>\n",
       "      <td>0.502053</td>\n",
       "      <td>0.174437</td>\n",
       "      <td>0.136781</td>\n",
       "      <td>0.391983</td>\n",
       "      <td>0.042844</td>\n",
       "      <td>0.363116</td>\n",
       "      <td>0.340214</td>\n",
       "      <td>0.340523</td>\n",
       "      <td>...</td>\n",
       "      <td>0.354593</td>\n",
       "      <td>0.026318</td>\n",
       "      <td>0.085551</td>\n",
       "      <td>0.235624</td>\n",
       "      <td>0.197040</td>\n",
       "      <td>0.441866</td>\n",
       "      <td>0.612398</td>\n",
       "      <td>0.588833</td>\n",
       "      <td>0.357066</td>\n",
       "      <td>0.088883</td>\n",
       "    </tr>\n",
       "  </tbody>\n",
       "</table>\n",
       "<p>5 rows × 103 columns</p>\n",
       "</div>"
      ],
      "text/plain": [
       "            ACKR+_EC  Activated KRT+ NK  Activated NK  Activated_B-AREG  \\\n",
       "FO538757.2  0.095478           0.090512      0.110985          0.055967   \n",
       "NOC2L       0.138662           0.127062      0.117580          0.117451   \n",
       "PERM1       0.002008           0.000344      0.000227          0.001351   \n",
       "HES4        0.011849           0.006743      0.051286          0.004431   \n",
       "ISG15       0.412864           0.386006      0.502053          0.174437   \n",
       "\n",
       "            Activated_B-RHOB  CCL5+_EC        CD  CD4+T_Act-CCL5  \\\n",
       "FO538757.2          0.075919  0.074606  0.149572        0.084705   \n",
       "NOC2L               0.114746  0.082101  0.170084        0.105224   \n",
       "PERM1               0.002163  0.003590  0.025246        0.001045   \n",
       "HES4                0.004672  0.239193  0.127295        0.005886   \n",
       "ISG15               0.136781  0.391983  0.042844        0.363116   \n",
       "\n",
       "            CD4+T_Act-CH25H  CD4+T_Act-CXCR4  ...  TR Mac.3  \\\n",
       "FO538757.2         0.095956         0.096498  ...  0.128304   \n",
       "NOC2L              0.101670         0.108131  ...  0.028709   \n",
       "PERM1              0.008251         0.000158  ...  0.003109   \n",
       "HES4               0.009522         0.002642  ...  0.009600   \n",
       "ISG15              0.340214         0.340523  ...  0.354593   \n",
       "\n",
       "            Type A intercalated cell  Type B intercalated cell      cDC1  \\\n",
       "FO538757.2                  0.104031                  0.250288  0.090729   \n",
       "NOC2L                       0.076386                  0.117015  0.069693   \n",
       "PERM1                       0.005901                  0.482280  0.000646   \n",
       "HES4                        0.007545                  0.044294  0.013336   \n",
       "ISG15                       0.026318                  0.085551  0.235624   \n",
       "\n",
       "                cDC2  cir_NK-PTGDS  cir_NK-S100B   gdT_Vd1   gdT_Vd2       pDC  \n",
       "FO538757.2  0.136187      0.130000      0.084518  0.122680  0.083116  0.134055  \n",
       "NOC2L       0.090842      0.123789      0.110760  0.140441  0.105666  0.130683  \n",
       "PERM1       0.001460      0.000493      0.003901  0.001227  0.000922  0.001944  \n",
       "HES4        0.001851      0.074820      0.109686  0.005783  0.001141  0.012366  \n",
       "ISG15       0.197040      0.441866      0.612398  0.588833  0.357066  0.088883  \n",
       "\n",
       "[5 rows x 103 columns]"
      ]
     },
     "execution_count": 8,
     "metadata": {},
     "output_type": "execute_result"
    }
   ],
   "source": [
    "inf_aver = pd.read_csv(f\"{ref_run_name}/inf_aver.csv\", index_col=0)\n",
    "inf_aver.head()"
   ]
  },
  {
   "cell_type": "markdown",
   "id": "e3692764-699c-4cd4-bef7-40c8586460c8",
   "metadata": {},
   "source": [
    "对参考数据和空转数据中基因取交集"
   ]
  },
  {
   "cell_type": "code",
   "execution_count": 9,
   "id": "036cd033-4021-4543-bcab-2282f5781f96",
   "metadata": {},
   "outputs": [
    {
     "data": {
      "text/html": [
       "<div>\n",
       "<style scoped>\n",
       "    .dataframe tbody tr th:only-of-type {\n",
       "        vertical-align: middle;\n",
       "    }\n",
       "\n",
       "    .dataframe tbody tr th {\n",
       "        vertical-align: top;\n",
       "    }\n",
       "\n",
       "    .dataframe thead th {\n",
       "        text-align: right;\n",
       "    }\n",
       "</style>\n",
       "<table border=\"1\" class=\"dataframe\">\n",
       "  <thead>\n",
       "    <tr style=\"text-align: right;\">\n",
       "      <th></th>\n",
       "      <th>feature_types</th>\n",
       "      <th>genome</th>\n",
       "      <th>SYMBOL</th>\n",
       "      <th>mt</th>\n",
       "      <th>n_cells_by_counts-6800STDY12499406</th>\n",
       "      <th>mean_counts-6800STDY12499406</th>\n",
       "      <th>log1p_mean_counts-6800STDY12499406</th>\n",
       "      <th>pct_dropout_by_counts-6800STDY12499406</th>\n",
       "      <th>total_counts-6800STDY12499406</th>\n",
       "      <th>log1p_total_counts-6800STDY12499406</th>\n",
       "      <th>...</th>\n",
       "      <th>log1p_mean_counts-6800STDY12499508</th>\n",
       "      <th>pct_dropout_by_counts-6800STDY12499508</th>\n",
       "      <th>total_counts-6800STDY12499508</th>\n",
       "      <th>log1p_total_counts-6800STDY12499508</th>\n",
       "      <th>n_cells_by_counts-6800STDY12499509</th>\n",
       "      <th>mean_counts-6800STDY12499509</th>\n",
       "      <th>log1p_mean_counts-6800STDY12499509</th>\n",
       "      <th>pct_dropout_by_counts-6800STDY12499509</th>\n",
       "      <th>total_counts-6800STDY12499509</th>\n",
       "      <th>log1p_total_counts-6800STDY12499509</th>\n",
       "    </tr>\n",
       "    <tr>\n",
       "      <th>ENSEMBL</th>\n",
       "      <th></th>\n",
       "      <th></th>\n",
       "      <th></th>\n",
       "      <th></th>\n",
       "      <th></th>\n",
       "      <th></th>\n",
       "      <th></th>\n",
       "      <th></th>\n",
       "      <th></th>\n",
       "      <th></th>\n",
       "      <th></th>\n",
       "      <th></th>\n",
       "      <th></th>\n",
       "      <th></th>\n",
       "      <th></th>\n",
       "      <th></th>\n",
       "      <th></th>\n",
       "      <th></th>\n",
       "      <th></th>\n",
       "      <th></th>\n",
       "      <th></th>\n",
       "    </tr>\n",
       "  </thead>\n",
       "  <tbody>\n",
       "    <tr>\n",
       "      <th>ENSG00000243485</th>\n",
       "      <td>Gene Expression</td>\n",
       "      <td>GRCh38</td>\n",
       "      <td>MIR1302-2HG</td>\n",
       "      <td>False</td>\n",
       "      <td>0</td>\n",
       "      <td>0.000000</td>\n",
       "      <td>0.000000</td>\n",
       "      <td>100.000000</td>\n",
       "      <td>0.0</td>\n",
       "      <td>0.000000</td>\n",
       "      <td>...</td>\n",
       "      <td>0.000353</td>\n",
       "      <td>99.964677</td>\n",
       "      <td>1.0</td>\n",
       "      <td>0.693147</td>\n",
       "      <td>0</td>\n",
       "      <td>0.000000</td>\n",
       "      <td>0.000000</td>\n",
       "      <td>100.000000</td>\n",
       "      <td>0.0</td>\n",
       "      <td>0.000000</td>\n",
       "    </tr>\n",
       "    <tr>\n",
       "      <th>ENSG00000237613</th>\n",
       "      <td>Gene Expression</td>\n",
       "      <td>GRCh38</td>\n",
       "      <td>FAM138A</td>\n",
       "      <td>False</td>\n",
       "      <td>0</td>\n",
       "      <td>0.000000</td>\n",
       "      <td>0.000000</td>\n",
       "      <td>100.000000</td>\n",
       "      <td>0.0</td>\n",
       "      <td>0.000000</td>\n",
       "      <td>...</td>\n",
       "      <td>0.000000</td>\n",
       "      <td>100.000000</td>\n",
       "      <td>0.0</td>\n",
       "      <td>0.000000</td>\n",
       "      <td>0</td>\n",
       "      <td>0.000000</td>\n",
       "      <td>0.000000</td>\n",
       "      <td>100.000000</td>\n",
       "      <td>0.0</td>\n",
       "      <td>0.000000</td>\n",
       "    </tr>\n",
       "    <tr>\n",
       "      <th>ENSG00000186092</th>\n",
       "      <td>Gene Expression</td>\n",
       "      <td>GRCh38</td>\n",
       "      <td>OR4F5</td>\n",
       "      <td>False</td>\n",
       "      <td>0</td>\n",
       "      <td>0.000000</td>\n",
       "      <td>0.000000</td>\n",
       "      <td>100.000000</td>\n",
       "      <td>0.0</td>\n",
       "      <td>0.000000</td>\n",
       "      <td>...</td>\n",
       "      <td>0.000000</td>\n",
       "      <td>100.000000</td>\n",
       "      <td>0.0</td>\n",
       "      <td>0.000000</td>\n",
       "      <td>0</td>\n",
       "      <td>0.000000</td>\n",
       "      <td>0.000000</td>\n",
       "      <td>100.000000</td>\n",
       "      <td>0.0</td>\n",
       "      <td>0.000000</td>\n",
       "    </tr>\n",
       "    <tr>\n",
       "      <th>ENSG00000238009</th>\n",
       "      <td>Gene Expression</td>\n",
       "      <td>GRCh38</td>\n",
       "      <td>AL627309.1</td>\n",
       "      <td>False</td>\n",
       "      <td>4</td>\n",
       "      <td>0.001193</td>\n",
       "      <td>0.001193</td>\n",
       "      <td>99.880668</td>\n",
       "      <td>4.0</td>\n",
       "      <td>1.609438</td>\n",
       "      <td>...</td>\n",
       "      <td>0.002822</td>\n",
       "      <td>99.717414</td>\n",
       "      <td>8.0</td>\n",
       "      <td>2.197225</td>\n",
       "      <td>1</td>\n",
       "      <td>0.000356</td>\n",
       "      <td>0.000356</td>\n",
       "      <td>99.964425</td>\n",
       "      <td>1.0</td>\n",
       "      <td>0.693147</td>\n",
       "    </tr>\n",
       "    <tr>\n",
       "      <th>ENSG00000239945</th>\n",
       "      <td>Gene Expression</td>\n",
       "      <td>GRCh38</td>\n",
       "      <td>AL627309.3</td>\n",
       "      <td>False</td>\n",
       "      <td>0</td>\n",
       "      <td>0.000000</td>\n",
       "      <td>0.000000</td>\n",
       "      <td>100.000000</td>\n",
       "      <td>0.0</td>\n",
       "      <td>0.000000</td>\n",
       "      <td>...</td>\n",
       "      <td>0.000000</td>\n",
       "      <td>100.000000</td>\n",
       "      <td>0.0</td>\n",
       "      <td>0.000000</td>\n",
       "      <td>0</td>\n",
       "      <td>0.000000</td>\n",
       "      <td>0.000000</td>\n",
       "      <td>100.000000</td>\n",
       "      <td>0.0</td>\n",
       "      <td>0.000000</td>\n",
       "    </tr>\n",
       "  </tbody>\n",
       "</table>\n",
       "<p>5 rows × 100 columns</p>\n",
       "</div>"
      ],
      "text/plain": [
       "                   feature_types  genome       SYMBOL     mt  \\\n",
       "ENSEMBL                                                        \n",
       "ENSG00000243485  Gene Expression  GRCh38  MIR1302-2HG  False   \n",
       "ENSG00000237613  Gene Expression  GRCh38      FAM138A  False   \n",
       "ENSG00000186092  Gene Expression  GRCh38        OR4F5  False   \n",
       "ENSG00000238009  Gene Expression  GRCh38   AL627309.1  False   \n",
       "ENSG00000239945  Gene Expression  GRCh38   AL627309.3  False   \n",
       "\n",
       "                 n_cells_by_counts-6800STDY12499406  \\\n",
       "ENSEMBL                                               \n",
       "ENSG00000243485                                   0   \n",
       "ENSG00000237613                                   0   \n",
       "ENSG00000186092                                   0   \n",
       "ENSG00000238009                                   4   \n",
       "ENSG00000239945                                   0   \n",
       "\n",
       "                 mean_counts-6800STDY12499406  \\\n",
       "ENSEMBL                                         \n",
       "ENSG00000243485                      0.000000   \n",
       "ENSG00000237613                      0.000000   \n",
       "ENSG00000186092                      0.000000   \n",
       "ENSG00000238009                      0.001193   \n",
       "ENSG00000239945                      0.000000   \n",
       "\n",
       "                 log1p_mean_counts-6800STDY12499406  \\\n",
       "ENSEMBL                                               \n",
       "ENSG00000243485                            0.000000   \n",
       "ENSG00000237613                            0.000000   \n",
       "ENSG00000186092                            0.000000   \n",
       "ENSG00000238009                            0.001193   \n",
       "ENSG00000239945                            0.000000   \n",
       "\n",
       "                 pct_dropout_by_counts-6800STDY12499406  \\\n",
       "ENSEMBL                                                   \n",
       "ENSG00000243485                              100.000000   \n",
       "ENSG00000237613                              100.000000   \n",
       "ENSG00000186092                              100.000000   \n",
       "ENSG00000238009                               99.880668   \n",
       "ENSG00000239945                              100.000000   \n",
       "\n",
       "                 total_counts-6800STDY12499406  \\\n",
       "ENSEMBL                                          \n",
       "ENSG00000243485                            0.0   \n",
       "ENSG00000237613                            0.0   \n",
       "ENSG00000186092                            0.0   \n",
       "ENSG00000238009                            4.0   \n",
       "ENSG00000239945                            0.0   \n",
       "\n",
       "                 log1p_total_counts-6800STDY12499406  ...  \\\n",
       "ENSEMBL                                               ...   \n",
       "ENSG00000243485                             0.000000  ...   \n",
       "ENSG00000237613                             0.000000  ...   \n",
       "ENSG00000186092                             0.000000  ...   \n",
       "ENSG00000238009                             1.609438  ...   \n",
       "ENSG00000239945                             0.000000  ...   \n",
       "\n",
       "                 log1p_mean_counts-6800STDY12499508  \\\n",
       "ENSEMBL                                               \n",
       "ENSG00000243485                            0.000353   \n",
       "ENSG00000237613                            0.000000   \n",
       "ENSG00000186092                            0.000000   \n",
       "ENSG00000238009                            0.002822   \n",
       "ENSG00000239945                            0.000000   \n",
       "\n",
       "                 pct_dropout_by_counts-6800STDY12499508  \\\n",
       "ENSEMBL                                                   \n",
       "ENSG00000243485                               99.964677   \n",
       "ENSG00000237613                              100.000000   \n",
       "ENSG00000186092                              100.000000   \n",
       "ENSG00000238009                               99.717414   \n",
       "ENSG00000239945                              100.000000   \n",
       "\n",
       "                 total_counts-6800STDY12499508  \\\n",
       "ENSEMBL                                          \n",
       "ENSG00000243485                            1.0   \n",
       "ENSG00000237613                            0.0   \n",
       "ENSG00000186092                            0.0   \n",
       "ENSG00000238009                            8.0   \n",
       "ENSG00000239945                            0.0   \n",
       "\n",
       "                 log1p_total_counts-6800STDY12499508  \\\n",
       "ENSEMBL                                                \n",
       "ENSG00000243485                             0.693147   \n",
       "ENSG00000237613                             0.000000   \n",
       "ENSG00000186092                             0.000000   \n",
       "ENSG00000238009                             2.197225   \n",
       "ENSG00000239945                             0.000000   \n",
       "\n",
       "                 n_cells_by_counts-6800STDY12499509  \\\n",
       "ENSEMBL                                               \n",
       "ENSG00000243485                                   0   \n",
       "ENSG00000237613                                   0   \n",
       "ENSG00000186092                                   0   \n",
       "ENSG00000238009                                   1   \n",
       "ENSG00000239945                                   0   \n",
       "\n",
       "                 mean_counts-6800STDY12499509  \\\n",
       "ENSEMBL                                         \n",
       "ENSG00000243485                      0.000000   \n",
       "ENSG00000237613                      0.000000   \n",
       "ENSG00000186092                      0.000000   \n",
       "ENSG00000238009                      0.000356   \n",
       "ENSG00000239945                      0.000000   \n",
       "\n",
       "                 log1p_mean_counts-6800STDY12499509  \\\n",
       "ENSEMBL                                               \n",
       "ENSG00000243485                            0.000000   \n",
       "ENSG00000237613                            0.000000   \n",
       "ENSG00000186092                            0.000000   \n",
       "ENSG00000238009                            0.000356   \n",
       "ENSG00000239945                            0.000000   \n",
       "\n",
       "                 pct_dropout_by_counts-6800STDY12499509  \\\n",
       "ENSEMBL                                                   \n",
       "ENSG00000243485                              100.000000   \n",
       "ENSG00000237613                              100.000000   \n",
       "ENSG00000186092                              100.000000   \n",
       "ENSG00000238009                               99.964425   \n",
       "ENSG00000239945                              100.000000   \n",
       "\n",
       "                 total_counts-6800STDY12499509  \\\n",
       "ENSEMBL                                          \n",
       "ENSG00000243485                            0.0   \n",
       "ENSG00000237613                            0.0   \n",
       "ENSG00000186092                            0.0   \n",
       "ENSG00000238009                            1.0   \n",
       "ENSG00000239945                            0.0   \n",
       "\n",
       "                 log1p_total_counts-6800STDY12499509  \n",
       "ENSEMBL                                               \n",
       "ENSG00000243485                             0.000000  \n",
       "ENSG00000237613                             0.000000  \n",
       "ENSG00000186092                             0.000000  \n",
       "ENSG00000238009                             0.693147  \n",
       "ENSG00000239945                             0.000000  \n",
       "\n",
       "[5 rows x 100 columns]"
      ]
     },
     "execution_count": 9,
     "metadata": {},
     "output_type": "execute_result"
    }
   ],
   "source": [
    "adata_vis.var.head()"
   ]
  },
  {
   "cell_type": "code",
   "execution_count": 10,
   "id": "d78eda95-e0e2-42b0-b97d-a9f693f9bb7c",
   "metadata": {},
   "outputs": [],
   "source": [
    "is_dup = adata_vis.var[\"SYMBOL\"].duplicated().tolist()\n",
    "symbol = adata_vis.var[\"SYMBOL\"].tolist()\n",
    "ensembl = adata_vis.var.index.tolist()\n",
    "uni_symbol = [(symbol[i]+\"_\"+ensembl[i]) if is_dup[i] else symbol[i] for i in range(len(is_dup))]"
   ]
  },
  {
   "cell_type": "code",
   "execution_count": 11,
   "id": "cd9b4b34-5371-4c44-ad73-ed7b712a2a9d",
   "metadata": {},
   "outputs": [],
   "source": [
    "adata_vis.var_names = uni_symbol"
   ]
  },
  {
   "cell_type": "code",
   "execution_count": 12,
   "id": "0fc69628-cd26-43b8-938d-6b058228faa3",
   "metadata": {},
   "outputs": [
    {
     "data": {
      "text/html": [
       "<div>\n",
       "<style scoped>\n",
       "    .dataframe tbody tr th:only-of-type {\n",
       "        vertical-align: middle;\n",
       "    }\n",
       "\n",
       "    .dataframe tbody tr th {\n",
       "        vertical-align: top;\n",
       "    }\n",
       "\n",
       "    .dataframe thead th {\n",
       "        text-align: right;\n",
       "    }\n",
       "</style>\n",
       "<table border=\"1\" class=\"dataframe\">\n",
       "  <thead>\n",
       "    <tr style=\"text-align: right;\">\n",
       "      <th></th>\n",
       "      <th>feature_types</th>\n",
       "      <th>genome</th>\n",
       "      <th>SYMBOL</th>\n",
       "      <th>mt</th>\n",
       "      <th>n_cells_by_counts-6800STDY12499406</th>\n",
       "      <th>mean_counts-6800STDY12499406</th>\n",
       "      <th>log1p_mean_counts-6800STDY12499406</th>\n",
       "      <th>pct_dropout_by_counts-6800STDY12499406</th>\n",
       "      <th>total_counts-6800STDY12499406</th>\n",
       "      <th>log1p_total_counts-6800STDY12499406</th>\n",
       "      <th>...</th>\n",
       "      <th>log1p_mean_counts-6800STDY12499508</th>\n",
       "      <th>pct_dropout_by_counts-6800STDY12499508</th>\n",
       "      <th>total_counts-6800STDY12499508</th>\n",
       "      <th>log1p_total_counts-6800STDY12499508</th>\n",
       "      <th>n_cells_by_counts-6800STDY12499509</th>\n",
       "      <th>mean_counts-6800STDY12499509</th>\n",
       "      <th>log1p_mean_counts-6800STDY12499509</th>\n",
       "      <th>pct_dropout_by_counts-6800STDY12499509</th>\n",
       "      <th>total_counts-6800STDY12499509</th>\n",
       "      <th>log1p_total_counts-6800STDY12499509</th>\n",
       "    </tr>\n",
       "  </thead>\n",
       "  <tbody>\n",
       "    <tr>\n",
       "      <th>MIR1302-2HG</th>\n",
       "      <td>Gene Expression</td>\n",
       "      <td>GRCh38</td>\n",
       "      <td>MIR1302-2HG</td>\n",
       "      <td>False</td>\n",
       "      <td>0</td>\n",
       "      <td>0.000000</td>\n",
       "      <td>0.000000</td>\n",
       "      <td>100.000000</td>\n",
       "      <td>0.0</td>\n",
       "      <td>0.000000</td>\n",
       "      <td>...</td>\n",
       "      <td>0.000353</td>\n",
       "      <td>99.964677</td>\n",
       "      <td>1.0</td>\n",
       "      <td>0.693147</td>\n",
       "      <td>0</td>\n",
       "      <td>0.000000</td>\n",
       "      <td>0.000000</td>\n",
       "      <td>100.000000</td>\n",
       "      <td>0.0</td>\n",
       "      <td>0.000000</td>\n",
       "    </tr>\n",
       "    <tr>\n",
       "      <th>FAM138A</th>\n",
       "      <td>Gene Expression</td>\n",
       "      <td>GRCh38</td>\n",
       "      <td>FAM138A</td>\n",
       "      <td>False</td>\n",
       "      <td>0</td>\n",
       "      <td>0.000000</td>\n",
       "      <td>0.000000</td>\n",
       "      <td>100.000000</td>\n",
       "      <td>0.0</td>\n",
       "      <td>0.000000</td>\n",
       "      <td>...</td>\n",
       "      <td>0.000000</td>\n",
       "      <td>100.000000</td>\n",
       "      <td>0.0</td>\n",
       "      <td>0.000000</td>\n",
       "      <td>0</td>\n",
       "      <td>0.000000</td>\n",
       "      <td>0.000000</td>\n",
       "      <td>100.000000</td>\n",
       "      <td>0.0</td>\n",
       "      <td>0.000000</td>\n",
       "    </tr>\n",
       "    <tr>\n",
       "      <th>OR4F5</th>\n",
       "      <td>Gene Expression</td>\n",
       "      <td>GRCh38</td>\n",
       "      <td>OR4F5</td>\n",
       "      <td>False</td>\n",
       "      <td>0</td>\n",
       "      <td>0.000000</td>\n",
       "      <td>0.000000</td>\n",
       "      <td>100.000000</td>\n",
       "      <td>0.0</td>\n",
       "      <td>0.000000</td>\n",
       "      <td>...</td>\n",
       "      <td>0.000000</td>\n",
       "      <td>100.000000</td>\n",
       "      <td>0.0</td>\n",
       "      <td>0.000000</td>\n",
       "      <td>0</td>\n",
       "      <td>0.000000</td>\n",
       "      <td>0.000000</td>\n",
       "      <td>100.000000</td>\n",
       "      <td>0.0</td>\n",
       "      <td>0.000000</td>\n",
       "    </tr>\n",
       "    <tr>\n",
       "      <th>AL627309.1</th>\n",
       "      <td>Gene Expression</td>\n",
       "      <td>GRCh38</td>\n",
       "      <td>AL627309.1</td>\n",
       "      <td>False</td>\n",
       "      <td>4</td>\n",
       "      <td>0.001193</td>\n",
       "      <td>0.001193</td>\n",
       "      <td>99.880668</td>\n",
       "      <td>4.0</td>\n",
       "      <td>1.609438</td>\n",
       "      <td>...</td>\n",
       "      <td>0.002822</td>\n",
       "      <td>99.717414</td>\n",
       "      <td>8.0</td>\n",
       "      <td>2.197225</td>\n",
       "      <td>1</td>\n",
       "      <td>0.000356</td>\n",
       "      <td>0.000356</td>\n",
       "      <td>99.964425</td>\n",
       "      <td>1.0</td>\n",
       "      <td>0.693147</td>\n",
       "    </tr>\n",
       "    <tr>\n",
       "      <th>AL627309.3</th>\n",
       "      <td>Gene Expression</td>\n",
       "      <td>GRCh38</td>\n",
       "      <td>AL627309.3</td>\n",
       "      <td>False</td>\n",
       "      <td>0</td>\n",
       "      <td>0.000000</td>\n",
       "      <td>0.000000</td>\n",
       "      <td>100.000000</td>\n",
       "      <td>0.0</td>\n",
       "      <td>0.000000</td>\n",
       "      <td>...</td>\n",
       "      <td>0.000000</td>\n",
       "      <td>100.000000</td>\n",
       "      <td>0.0</td>\n",
       "      <td>0.000000</td>\n",
       "      <td>0</td>\n",
       "      <td>0.000000</td>\n",
       "      <td>0.000000</td>\n",
       "      <td>100.000000</td>\n",
       "      <td>0.0</td>\n",
       "      <td>0.000000</td>\n",
       "    </tr>\n",
       "  </tbody>\n",
       "</table>\n",
       "<p>5 rows × 100 columns</p>\n",
       "</div>"
      ],
      "text/plain": [
       "               feature_types  genome       SYMBOL     mt  \\\n",
       "MIR1302-2HG  Gene Expression  GRCh38  MIR1302-2HG  False   \n",
       "FAM138A      Gene Expression  GRCh38      FAM138A  False   \n",
       "OR4F5        Gene Expression  GRCh38        OR4F5  False   \n",
       "AL627309.1   Gene Expression  GRCh38   AL627309.1  False   \n",
       "AL627309.3   Gene Expression  GRCh38   AL627309.3  False   \n",
       "\n",
       "             n_cells_by_counts-6800STDY12499406  mean_counts-6800STDY12499406  \\\n",
       "MIR1302-2HG                                   0                      0.000000   \n",
       "FAM138A                                       0                      0.000000   \n",
       "OR4F5                                         0                      0.000000   \n",
       "AL627309.1                                    4                      0.001193   \n",
       "AL627309.3                                    0                      0.000000   \n",
       "\n",
       "             log1p_mean_counts-6800STDY12499406  \\\n",
       "MIR1302-2HG                            0.000000   \n",
       "FAM138A                                0.000000   \n",
       "OR4F5                                  0.000000   \n",
       "AL627309.1                             0.001193   \n",
       "AL627309.3                             0.000000   \n",
       "\n",
       "             pct_dropout_by_counts-6800STDY12499406  \\\n",
       "MIR1302-2HG                              100.000000   \n",
       "FAM138A                                  100.000000   \n",
       "OR4F5                                    100.000000   \n",
       "AL627309.1                                99.880668   \n",
       "AL627309.3                               100.000000   \n",
       "\n",
       "             total_counts-6800STDY12499406  \\\n",
       "MIR1302-2HG                            0.0   \n",
       "FAM138A                                0.0   \n",
       "OR4F5                                  0.0   \n",
       "AL627309.1                             4.0   \n",
       "AL627309.3                             0.0   \n",
       "\n",
       "             log1p_total_counts-6800STDY12499406  ...  \\\n",
       "MIR1302-2HG                             0.000000  ...   \n",
       "FAM138A                                 0.000000  ...   \n",
       "OR4F5                                   0.000000  ...   \n",
       "AL627309.1                              1.609438  ...   \n",
       "AL627309.3                              0.000000  ...   \n",
       "\n",
       "             log1p_mean_counts-6800STDY12499508  \\\n",
       "MIR1302-2HG                            0.000353   \n",
       "FAM138A                                0.000000   \n",
       "OR4F5                                  0.000000   \n",
       "AL627309.1                             0.002822   \n",
       "AL627309.3                             0.000000   \n",
       "\n",
       "             pct_dropout_by_counts-6800STDY12499508  \\\n",
       "MIR1302-2HG                               99.964677   \n",
       "FAM138A                                  100.000000   \n",
       "OR4F5                                    100.000000   \n",
       "AL627309.1                                99.717414   \n",
       "AL627309.3                               100.000000   \n",
       "\n",
       "             total_counts-6800STDY12499508  \\\n",
       "MIR1302-2HG                            1.0   \n",
       "FAM138A                                0.0   \n",
       "OR4F5                                  0.0   \n",
       "AL627309.1                             8.0   \n",
       "AL627309.3                             0.0   \n",
       "\n",
       "             log1p_total_counts-6800STDY12499508  \\\n",
       "MIR1302-2HG                             0.693147   \n",
       "FAM138A                                 0.000000   \n",
       "OR4F5                                   0.000000   \n",
       "AL627309.1                              2.197225   \n",
       "AL627309.3                              0.000000   \n",
       "\n",
       "             n_cells_by_counts-6800STDY12499509  mean_counts-6800STDY12499509  \\\n",
       "MIR1302-2HG                                   0                      0.000000   \n",
       "FAM138A                                       0                      0.000000   \n",
       "OR4F5                                         0                      0.000000   \n",
       "AL627309.1                                    1                      0.000356   \n",
       "AL627309.3                                    0                      0.000000   \n",
       "\n",
       "             log1p_mean_counts-6800STDY12499509  \\\n",
       "MIR1302-2HG                            0.000000   \n",
       "FAM138A                                0.000000   \n",
       "OR4F5                                  0.000000   \n",
       "AL627309.1                             0.000356   \n",
       "AL627309.3                             0.000000   \n",
       "\n",
       "             pct_dropout_by_counts-6800STDY12499509  \\\n",
       "MIR1302-2HG                              100.000000   \n",
       "FAM138A                                  100.000000   \n",
       "OR4F5                                    100.000000   \n",
       "AL627309.1                                99.964425   \n",
       "AL627309.3                               100.000000   \n",
       "\n",
       "             total_counts-6800STDY12499509  \\\n",
       "MIR1302-2HG                            0.0   \n",
       "FAM138A                                0.0   \n",
       "OR4F5                                  0.0   \n",
       "AL627309.1                             1.0   \n",
       "AL627309.3                             0.0   \n",
       "\n",
       "             log1p_total_counts-6800STDY12499509  \n",
       "MIR1302-2HG                             0.000000  \n",
       "FAM138A                                 0.000000  \n",
       "OR4F5                                   0.000000  \n",
       "AL627309.1                              0.693147  \n",
       "AL627309.3                              0.000000  \n",
       "\n",
       "[5 rows x 100 columns]"
      ]
     },
     "execution_count": 12,
     "metadata": {},
     "output_type": "execute_result"
    }
   ],
   "source": [
    "adata_vis.var.head()"
   ]
  },
  {
   "cell_type": "code",
   "execution_count": 13,
   "id": "c6c9c98e-a925-42c3-aca3-3493e2af1940",
   "metadata": {},
   "outputs": [],
   "source": [
    "# find shared genes and subset both anndata and reference signatures\n",
    "intersect = np.intersect1d(adata_vis.var_names, inf_aver.index)\n",
    "adata_vis = adata_vis[:, intersect].copy()\n",
    "inf_aver = inf_aver.loc[intersect, :].copy()"
   ]
  },
  {
   "cell_type": "code",
   "execution_count": 14,
   "id": "9cfcf103-a618-44f4-9ba8-285393717fb0",
   "metadata": {},
   "outputs": [
    {
     "data": {
      "text/plain": [
       "((27912, 10533), (10533, 103))"
      ]
     },
     "execution_count": 14,
     "metadata": {},
     "output_type": "execute_result"
    }
   ],
   "source": [
    "adata_vis.shape, inf_aver.shape"
   ]
  },
  {
   "cell_type": "markdown",
   "id": "2c1a8aa3-01ea-4aac-bd74-f8657d189ec6",
   "metadata": {},
   "source": [
    "The reference signature model was further used by cell2location to estimate spatial abundance of cell\n",
    "types. We kept genes that were shared with scRNA-seq and estimated the abundance of cell types in tumor core and interface\n",
    "groups respectively. In this step, cell2location was used with the following parameter settings: \n",
    "- training iterations: 20,000, \n",
    "- number of cells per location N = 20, \n",
    "- ‘detection_alpha’ = 200"
   ]
  },
  {
   "cell_type": "code",
   "execution_count": 15,
   "id": "9d233cca-b48c-492b-a2fe-3446c46473fd",
   "metadata": {},
   "outputs": [],
   "source": [
    "# prepare anndata for cell2location model\n",
    "cell2location.models.Cell2location.setup_anndata(adata=adata_vis, batch_key=\"sample\")"
   ]
  },
  {
   "cell_type": "code",
   "execution_count": 16,
   "id": "72a2c088-0ce8-4a4f-bcc8-f60a16f9d546",
   "metadata": {},
   "outputs": [
    {
     "data": {
      "text/html": [
       "<pre style=\"white-space:pre;overflow-x:auto;line-height:normal;font-family:Menlo,'DejaVu Sans Mono',consolas,'Courier New',monospace\">Anndata setup with scvi-tools version <span style=\"color: #008080; text-decoration-color: #008080; font-weight: bold\">0.17</span>.<span style=\"color: #008080; text-decoration-color: #008080; font-weight: bold\">4</span>.\n",
       "</pre>\n"
      ],
      "text/plain": [
       "Anndata setup with scvi-tools version \u001b[1;36m0.17\u001b[0m.\u001b[1;36m4\u001b[0m.\n"
      ]
     },
     "metadata": {},
     "output_type": "display_data"
    },
    {
     "data": {
      "text/html": [
       "<pre style=\"white-space:pre;overflow-x:auto;line-height:normal;font-family:Menlo,'DejaVu Sans Mono',consolas,'Courier New',monospace\">\n",
       "</pre>\n"
      ],
      "text/plain": [
       "\n"
      ]
     },
     "metadata": {},
     "output_type": "display_data"
    },
    {
     "data": {
      "text/html": [
       "<pre style=\"white-space:pre;overflow-x:auto;line-height:normal;font-family:Menlo,'DejaVu Sans Mono',consolas,'Courier New',monospace\">Setup via `Cell2location.setup_anndata` with arguments:\n",
       "</pre>\n"
      ],
      "text/plain": [
       "Setup via `Cell2location.setup_anndata` with arguments:\n"
      ]
     },
     "metadata": {},
     "output_type": "display_data"
    },
    {
     "data": {
      "text/html": [
       "<pre style=\"white-space:pre;overflow-x:auto;line-height:normal;font-family:Menlo,'DejaVu Sans Mono',consolas,'Courier New',monospace\"><span style=\"font-weight: bold\">{</span>\n",
       "<span style=\"color: #7fbf7f; text-decoration-color: #7fbf7f\">│   </span><span style=\"color: #008000; text-decoration-color: #008000\">'layer'</span>: <span style=\"color: #800080; text-decoration-color: #800080; font-style: italic\">None</span>,\n",
       "<span style=\"color: #7fbf7f; text-decoration-color: #7fbf7f\">│   </span><span style=\"color: #008000; text-decoration-color: #008000\">'batch_key'</span>: <span style=\"color: #008000; text-decoration-color: #008000\">'sample'</span>,\n",
       "<span style=\"color: #7fbf7f; text-decoration-color: #7fbf7f\">│   </span><span style=\"color: #008000; text-decoration-color: #008000\">'labels_key'</span>: <span style=\"color: #800080; text-decoration-color: #800080; font-style: italic\">None</span>,\n",
       "<span style=\"color: #7fbf7f; text-decoration-color: #7fbf7f\">│   </span><span style=\"color: #008000; text-decoration-color: #008000\">'categorical_covariate_keys'</span>: <span style=\"color: #800080; text-decoration-color: #800080; font-style: italic\">None</span>,\n",
       "<span style=\"color: #7fbf7f; text-decoration-color: #7fbf7f\">│   </span><span style=\"color: #008000; text-decoration-color: #008000\">'continuous_covariate_keys'</span>: <span style=\"color: #800080; text-decoration-color: #800080; font-style: italic\">None</span>\n",
       "<span style=\"font-weight: bold\">}</span>\n",
       "</pre>\n"
      ],
      "text/plain": [
       "\u001b[1m{\u001b[0m\n",
       "\u001b[2;32m│   \u001b[0m\u001b[32m'layer'\u001b[0m: \u001b[3;35mNone\u001b[0m,\n",
       "\u001b[2;32m│   \u001b[0m\u001b[32m'batch_key'\u001b[0m: \u001b[32m'sample'\u001b[0m,\n",
       "\u001b[2;32m│   \u001b[0m\u001b[32m'labels_key'\u001b[0m: \u001b[3;35mNone\u001b[0m,\n",
       "\u001b[2;32m│   \u001b[0m\u001b[32m'categorical_covariate_keys'\u001b[0m: \u001b[3;35mNone\u001b[0m,\n",
       "\u001b[2;32m│   \u001b[0m\u001b[32m'continuous_covariate_keys'\u001b[0m: \u001b[3;35mNone\u001b[0m\n",
       "\u001b[1m}\u001b[0m\n"
      ]
     },
     "metadata": {},
     "output_type": "display_data"
    },
    {
     "data": {
      "text/html": [
       "<pre style=\"white-space:pre;overflow-x:auto;line-height:normal;font-family:Menlo,'DejaVu Sans Mono',consolas,'Courier New',monospace\">\n",
       "</pre>\n"
      ],
      "text/plain": [
       "\n"
      ]
     },
     "metadata": {},
     "output_type": "display_data"
    },
    {
     "data": {
      "text/html": [
       "<pre style=\"white-space:pre;overflow-x:auto;line-height:normal;font-family:Menlo,'DejaVu Sans Mono',consolas,'Courier New',monospace\"><span style=\"font-style: italic\">         Summary Statistics         </span>\n",
       "┏━━━━━━━━━━━━━━━━━━━━━━━━━━┳━━━━━━━┓\n",
       "┃<span style=\"font-weight: bold\">     Summary Stat Key     </span>┃<span style=\"font-weight: bold\"> Value </span>┃\n",
       "┡━━━━━━━━━━━━━━━━━━━━━━━━━━╇━━━━━━━┩\n",
       "│<span style=\"color: #0087ff; text-decoration-color: #0087ff\">          n_vars          </span>│<span style=\"color: #af00d7; text-decoration-color: #af00d7\"> 10533 </span>│\n",
       "│<span style=\"color: #0087ff; text-decoration-color: #0087ff\">         n_cells          </span>│<span style=\"color: #af00d7; text-decoration-color: #af00d7\"> 27912 </span>│\n",
       "│<span style=\"color: #0087ff; text-decoration-color: #0087ff\">         n_batch          </span>│<span style=\"color: #af00d7; text-decoration-color: #af00d7\">  11   </span>│\n",
       "│<span style=\"color: #0087ff; text-decoration-color: #0087ff\">         n_labels         </span>│<span style=\"color: #af00d7; text-decoration-color: #af00d7\">   1   </span>│\n",
       "│<span style=\"color: #0087ff; text-decoration-color: #0087ff\"> n_extra_categorical_covs </span>│<span style=\"color: #af00d7; text-decoration-color: #af00d7\">   0   </span>│\n",
       "│<span style=\"color: #0087ff; text-decoration-color: #0087ff\"> n_extra_continuous_covs  </span>│<span style=\"color: #af00d7; text-decoration-color: #af00d7\">   0   </span>│\n",
       "└──────────────────────────┴───────┘\n",
       "</pre>\n"
      ],
      "text/plain": [
       "\u001b[3m         Summary Statistics         \u001b[0m\n",
       "┏━━━━━━━━━━━━━━━━━━━━━━━━━━┳━━━━━━━┓\n",
       "┃\u001b[1m \u001b[0m\u001b[1m    Summary Stat Key    \u001b[0m\u001b[1m \u001b[0m┃\u001b[1m \u001b[0m\u001b[1mValue\u001b[0m\u001b[1m \u001b[0m┃\n",
       "┡━━━━━━━━━━━━━━━━━━━━━━━━━━╇━━━━━━━┩\n",
       "│\u001b[38;5;33m \u001b[0m\u001b[38;5;33m         n_vars         \u001b[0m\u001b[38;5;33m \u001b[0m│\u001b[38;5;128m \u001b[0m\u001b[38;5;128m10533\u001b[0m\u001b[38;5;128m \u001b[0m│\n",
       "│\u001b[38;5;33m \u001b[0m\u001b[38;5;33m        n_cells         \u001b[0m\u001b[38;5;33m \u001b[0m│\u001b[38;5;128m \u001b[0m\u001b[38;5;128m27912\u001b[0m\u001b[38;5;128m \u001b[0m│\n",
       "│\u001b[38;5;33m \u001b[0m\u001b[38;5;33m        n_batch         \u001b[0m\u001b[38;5;33m \u001b[0m│\u001b[38;5;128m \u001b[0m\u001b[38;5;128m 11  \u001b[0m\u001b[38;5;128m \u001b[0m│\n",
       "│\u001b[38;5;33m \u001b[0m\u001b[38;5;33m        n_labels        \u001b[0m\u001b[38;5;33m \u001b[0m│\u001b[38;5;128m \u001b[0m\u001b[38;5;128m  1  \u001b[0m\u001b[38;5;128m \u001b[0m│\n",
       "│\u001b[38;5;33m \u001b[0m\u001b[38;5;33mn_extra_categorical_covs\u001b[0m\u001b[38;5;33m \u001b[0m│\u001b[38;5;128m \u001b[0m\u001b[38;5;128m  0  \u001b[0m\u001b[38;5;128m \u001b[0m│\n",
       "│\u001b[38;5;33m \u001b[0m\u001b[38;5;33mn_extra_continuous_covs \u001b[0m\u001b[38;5;33m \u001b[0m│\u001b[38;5;128m \u001b[0m\u001b[38;5;128m  0  \u001b[0m\u001b[38;5;128m \u001b[0m│\n",
       "└──────────────────────────┴───────┘\n"
      ]
     },
     "metadata": {},
     "output_type": "display_data"
    },
    {
     "data": {
      "text/html": [
       "<pre style=\"white-space:pre;overflow-x:auto;line-height:normal;font-family:Menlo,'DejaVu Sans Mono',consolas,'Courier New',monospace\"><span style=\"font-style: italic\">               Data Registry                </span>\n",
       "┏━━━━━━━━━━━━━━┳━━━━━━━━━━━━━━━━━━━━━━━━━━━┓\n",
       "┃<span style=\"font-weight: bold\"> Registry Key </span>┃<span style=\"font-weight: bold\">    scvi-tools Location    </span>┃\n",
       "┡━━━━━━━━━━━━━━╇━━━━━━━━━━━━━━━━━━━━━━━━━━━┩\n",
       "│<span style=\"color: #0087ff; text-decoration-color: #0087ff\">      X       </span>│<span style=\"color: #af00d7; text-decoration-color: #af00d7\">          adata.X          </span>│\n",
       "│<span style=\"color: #0087ff; text-decoration-color: #0087ff\">    batch     </span>│<span style=\"color: #af00d7; text-decoration-color: #af00d7\"> adata.obs['_scvi_batch']  </span>│\n",
       "│<span style=\"color: #0087ff; text-decoration-color: #0087ff\">    labels    </span>│<span style=\"color: #af00d7; text-decoration-color: #af00d7\"> adata.obs['_scvi_labels'] </span>│\n",
       "│<span style=\"color: #0087ff; text-decoration-color: #0087ff\">    ind_x     </span>│<span style=\"color: #af00d7; text-decoration-color: #af00d7\">   adata.obs['_indices']   </span>│\n",
       "└──────────────┴───────────────────────────┘\n",
       "</pre>\n"
      ],
      "text/plain": [
       "\u001b[3m               Data Registry                \u001b[0m\n",
       "┏━━━━━━━━━━━━━━┳━━━━━━━━━━━━━━━━━━━━━━━━━━━┓\n",
       "┃\u001b[1m \u001b[0m\u001b[1mRegistry Key\u001b[0m\u001b[1m \u001b[0m┃\u001b[1m \u001b[0m\u001b[1m   scvi-tools Location   \u001b[0m\u001b[1m \u001b[0m┃\n",
       "┡━━━━━━━━━━━━━━╇━━━━━━━━━━━━━━━━━━━━━━━━━━━┩\n",
       "│\u001b[38;5;33m \u001b[0m\u001b[38;5;33m     X      \u001b[0m\u001b[38;5;33m \u001b[0m│\u001b[38;5;128m \u001b[0m\u001b[38;5;128m         adata.X         \u001b[0m\u001b[38;5;128m \u001b[0m│\n",
       "│\u001b[38;5;33m \u001b[0m\u001b[38;5;33m   batch    \u001b[0m\u001b[38;5;33m \u001b[0m│\u001b[38;5;128m \u001b[0m\u001b[38;5;128madata.obs['_scvi_batch'] \u001b[0m\u001b[38;5;128m \u001b[0m│\n",
       "│\u001b[38;5;33m \u001b[0m\u001b[38;5;33m   labels   \u001b[0m\u001b[38;5;33m \u001b[0m│\u001b[38;5;128m \u001b[0m\u001b[38;5;128madata.obs['_scvi_labels']\u001b[0m\u001b[38;5;128m \u001b[0m│\n",
       "│\u001b[38;5;33m \u001b[0m\u001b[38;5;33m   ind_x    \u001b[0m\u001b[38;5;33m \u001b[0m│\u001b[38;5;128m \u001b[0m\u001b[38;5;128m  adata.obs['_indices']  \u001b[0m\u001b[38;5;128m \u001b[0m│\n",
       "└──────────────┴───────────────────────────┘\n"
      ]
     },
     "metadata": {},
     "output_type": "display_data"
    },
    {
     "data": {
      "text/html": [
       "<pre style=\"white-space:pre;overflow-x:auto;line-height:normal;font-family:Menlo,'DejaVu Sans Mono',consolas,'Courier New',monospace\"><span style=\"font-style: italic\">                      batch State Registry                      </span>\n",
       "┏━━━━━━━━━━━━━━━━━━━━━┳━━━━━━━━━━━━━━━━━━┳━━━━━━━━━━━━━━━━━━━━━┓\n",
       "┃<span style=\"font-weight: bold\">   Source Location   </span>┃<span style=\"font-weight: bold\">    Categories    </span>┃<span style=\"font-weight: bold\"> scvi-tools Encoding </span>┃\n",
       "┡━━━━━━━━━━━━━━━━━━━━━╇━━━━━━━━━━━━━━━━━━╇━━━━━━━━━━━━━━━━━━━━━┩\n",
       "│<span style=\"color: #0087ff; text-decoration-color: #0087ff\"> adata.obs['sample'] </span>│<span style=\"color: #008000; text-decoration-color: #008000\"> 6800STDY12499406 </span>│<span style=\"color: #af00d7; text-decoration-color: #af00d7\">          0          </span>│\n",
       "│<span style=\"color: #0087ff; text-decoration-color: #0087ff\">                     </span>│<span style=\"color: #008000; text-decoration-color: #008000\"> 6800STDY12499409 </span>│<span style=\"color: #af00d7; text-decoration-color: #af00d7\">          1          </span>│\n",
       "│<span style=\"color: #0087ff; text-decoration-color: #0087ff\">                     </span>│<span style=\"color: #008000; text-decoration-color: #008000\"> 6800STDY12499411 </span>│<span style=\"color: #af00d7; text-decoration-color: #af00d7\">          2          </span>│\n",
       "│<span style=\"color: #0087ff; text-decoration-color: #0087ff\">                     </span>│<span style=\"color: #008000; text-decoration-color: #008000\"> 6800STDY12499502 </span>│<span style=\"color: #af00d7; text-decoration-color: #af00d7\">          3          </span>│\n",
       "│<span style=\"color: #0087ff; text-decoration-color: #0087ff\">                     </span>│<span style=\"color: #008000; text-decoration-color: #008000\"> 6800STDY12499503 </span>│<span style=\"color: #af00d7; text-decoration-color: #af00d7\">          4          </span>│\n",
       "│<span style=\"color: #0087ff; text-decoration-color: #0087ff\">                     </span>│<span style=\"color: #008000; text-decoration-color: #008000\"> 6800STDY12499504 </span>│<span style=\"color: #af00d7; text-decoration-color: #af00d7\">          5          </span>│\n",
       "│<span style=\"color: #0087ff; text-decoration-color: #0087ff\">                     </span>│<span style=\"color: #008000; text-decoration-color: #008000\"> 6800STDY12499505 </span>│<span style=\"color: #af00d7; text-decoration-color: #af00d7\">          6          </span>│\n",
       "│<span style=\"color: #0087ff; text-decoration-color: #0087ff\">                     </span>│<span style=\"color: #008000; text-decoration-color: #008000\"> 6800STDY12499506 </span>│<span style=\"color: #af00d7; text-decoration-color: #af00d7\">          7          </span>│\n",
       "│<span style=\"color: #0087ff; text-decoration-color: #0087ff\">                     </span>│<span style=\"color: #008000; text-decoration-color: #008000\"> 6800STDY12499507 </span>│<span style=\"color: #af00d7; text-decoration-color: #af00d7\">          8          </span>│\n",
       "│<span style=\"color: #0087ff; text-decoration-color: #0087ff\">                     </span>│<span style=\"color: #008000; text-decoration-color: #008000\"> 6800STDY12499508 </span>│<span style=\"color: #af00d7; text-decoration-color: #af00d7\">          9          </span>│\n",
       "│<span style=\"color: #0087ff; text-decoration-color: #0087ff\">                     </span>│<span style=\"color: #008000; text-decoration-color: #008000\"> 6800STDY12499509 </span>│<span style=\"color: #af00d7; text-decoration-color: #af00d7\">         10          </span>│\n",
       "└─────────────────────┴──────────────────┴─────────────────────┘\n",
       "</pre>\n"
      ],
      "text/plain": [
       "\u001b[3m                      batch State Registry                      \u001b[0m\n",
       "┏━━━━━━━━━━━━━━━━━━━━━┳━━━━━━━━━━━━━━━━━━┳━━━━━━━━━━━━━━━━━━━━━┓\n",
       "┃\u001b[1m \u001b[0m\u001b[1m  Source Location  \u001b[0m\u001b[1m \u001b[0m┃\u001b[1m \u001b[0m\u001b[1m   Categories   \u001b[0m\u001b[1m \u001b[0m┃\u001b[1m \u001b[0m\u001b[1mscvi-tools Encoding\u001b[0m\u001b[1m \u001b[0m┃\n",
       "┡━━━━━━━━━━━━━━━━━━━━━╇━━━━━━━━━━━━━━━━━━╇━━━━━━━━━━━━━━━━━━━━━┩\n",
       "│\u001b[38;5;33m \u001b[0m\u001b[38;5;33madata.obs['sample']\u001b[0m\u001b[38;5;33m \u001b[0m│\u001b[32m \u001b[0m\u001b[32m6800STDY12499406\u001b[0m\u001b[32m \u001b[0m│\u001b[38;5;128m \u001b[0m\u001b[38;5;128m         0         \u001b[0m\u001b[38;5;128m \u001b[0m│\n",
       "│\u001b[38;5;33m \u001b[0m\u001b[38;5;33m                   \u001b[0m\u001b[38;5;33m \u001b[0m│\u001b[32m \u001b[0m\u001b[32m6800STDY12499409\u001b[0m\u001b[32m \u001b[0m│\u001b[38;5;128m \u001b[0m\u001b[38;5;128m         1         \u001b[0m\u001b[38;5;128m \u001b[0m│\n",
       "│\u001b[38;5;33m \u001b[0m\u001b[38;5;33m                   \u001b[0m\u001b[38;5;33m \u001b[0m│\u001b[32m \u001b[0m\u001b[32m6800STDY12499411\u001b[0m\u001b[32m \u001b[0m│\u001b[38;5;128m \u001b[0m\u001b[38;5;128m         2         \u001b[0m\u001b[38;5;128m \u001b[0m│\n",
       "│\u001b[38;5;33m \u001b[0m\u001b[38;5;33m                   \u001b[0m\u001b[38;5;33m \u001b[0m│\u001b[32m \u001b[0m\u001b[32m6800STDY12499502\u001b[0m\u001b[32m \u001b[0m│\u001b[38;5;128m \u001b[0m\u001b[38;5;128m         3         \u001b[0m\u001b[38;5;128m \u001b[0m│\n",
       "│\u001b[38;5;33m \u001b[0m\u001b[38;5;33m                   \u001b[0m\u001b[38;5;33m \u001b[0m│\u001b[32m \u001b[0m\u001b[32m6800STDY12499503\u001b[0m\u001b[32m \u001b[0m│\u001b[38;5;128m \u001b[0m\u001b[38;5;128m         4         \u001b[0m\u001b[38;5;128m \u001b[0m│\n",
       "│\u001b[38;5;33m \u001b[0m\u001b[38;5;33m                   \u001b[0m\u001b[38;5;33m \u001b[0m│\u001b[32m \u001b[0m\u001b[32m6800STDY12499504\u001b[0m\u001b[32m \u001b[0m│\u001b[38;5;128m \u001b[0m\u001b[38;5;128m         5         \u001b[0m\u001b[38;5;128m \u001b[0m│\n",
       "│\u001b[38;5;33m \u001b[0m\u001b[38;5;33m                   \u001b[0m\u001b[38;5;33m \u001b[0m│\u001b[32m \u001b[0m\u001b[32m6800STDY12499505\u001b[0m\u001b[32m \u001b[0m│\u001b[38;5;128m \u001b[0m\u001b[38;5;128m         6         \u001b[0m\u001b[38;5;128m \u001b[0m│\n",
       "│\u001b[38;5;33m \u001b[0m\u001b[38;5;33m                   \u001b[0m\u001b[38;5;33m \u001b[0m│\u001b[32m \u001b[0m\u001b[32m6800STDY12499506\u001b[0m\u001b[32m \u001b[0m│\u001b[38;5;128m \u001b[0m\u001b[38;5;128m         7         \u001b[0m\u001b[38;5;128m \u001b[0m│\n",
       "│\u001b[38;5;33m \u001b[0m\u001b[38;5;33m                   \u001b[0m\u001b[38;5;33m \u001b[0m│\u001b[32m \u001b[0m\u001b[32m6800STDY12499507\u001b[0m\u001b[32m \u001b[0m│\u001b[38;5;128m \u001b[0m\u001b[38;5;128m         8         \u001b[0m\u001b[38;5;128m \u001b[0m│\n",
       "│\u001b[38;5;33m \u001b[0m\u001b[38;5;33m                   \u001b[0m\u001b[38;5;33m \u001b[0m│\u001b[32m \u001b[0m\u001b[32m6800STDY12499508\u001b[0m\u001b[32m \u001b[0m│\u001b[38;5;128m \u001b[0m\u001b[38;5;128m         9         \u001b[0m\u001b[38;5;128m \u001b[0m│\n",
       "│\u001b[38;5;33m \u001b[0m\u001b[38;5;33m                   \u001b[0m\u001b[38;5;33m \u001b[0m│\u001b[32m \u001b[0m\u001b[32m6800STDY12499509\u001b[0m\u001b[32m \u001b[0m│\u001b[38;5;128m \u001b[0m\u001b[38;5;128m        10         \u001b[0m\u001b[38;5;128m \u001b[0m│\n",
       "└─────────────────────┴──────────────────┴─────────────────────┘\n"
      ]
     },
     "metadata": {},
     "output_type": "display_data"
    },
    {
     "data": {
      "text/html": [
       "<pre style=\"white-space:pre;overflow-x:auto;line-height:normal;font-family:Menlo,'DejaVu Sans Mono',consolas,'Courier New',monospace\"><span style=\"font-style: italic\">                     labels State Registry                      </span>\n",
       "┏━━━━━━━━━━━━━━━━━━━━━━━━━━━┳━━━━━━━━━━━━┳━━━━━━━━━━━━━━━━━━━━━┓\n",
       "┃<span style=\"font-weight: bold\">      Source Location      </span>┃<span style=\"font-weight: bold\"> Categories </span>┃<span style=\"font-weight: bold\"> scvi-tools Encoding </span>┃\n",
       "┡━━━━━━━━━━━━━━━━━━━━━━━━━━━╇━━━━━━━━━━━━╇━━━━━━━━━━━━━━━━━━━━━┩\n",
       "│<span style=\"color: #0087ff; text-decoration-color: #0087ff\"> adata.obs['_scvi_labels'] </span>│<span style=\"color: #008000; text-decoration-color: #008000\">     0      </span>│<span style=\"color: #af00d7; text-decoration-color: #af00d7\">          0          </span>│\n",
       "└───────────────────────────┴────────────┴─────────────────────┘\n",
       "</pre>\n"
      ],
      "text/plain": [
       "\u001b[3m                     labels State Registry                      \u001b[0m\n",
       "┏━━━━━━━━━━━━━━━━━━━━━━━━━━━┳━━━━━━━━━━━━┳━━━━━━━━━━━━━━━━━━━━━┓\n",
       "┃\u001b[1m \u001b[0m\u001b[1m     Source Location     \u001b[0m\u001b[1m \u001b[0m┃\u001b[1m \u001b[0m\u001b[1mCategories\u001b[0m\u001b[1m \u001b[0m┃\u001b[1m \u001b[0m\u001b[1mscvi-tools Encoding\u001b[0m\u001b[1m \u001b[0m┃\n",
       "┡━━━━━━━━━━━━━━━━━━━━━━━━━━━╇━━━━━━━━━━━━╇━━━━━━━━━━━━━━━━━━━━━┩\n",
       "│\u001b[38;5;33m \u001b[0m\u001b[38;5;33madata.obs['_scvi_labels']\u001b[0m\u001b[38;5;33m \u001b[0m│\u001b[32m \u001b[0m\u001b[32m    0     \u001b[0m\u001b[32m \u001b[0m│\u001b[38;5;128m \u001b[0m\u001b[38;5;128m         0         \u001b[0m\u001b[38;5;128m \u001b[0m│\n",
       "└───────────────────────────┴────────────┴─────────────────────┘\n"
      ]
     },
     "metadata": {},
     "output_type": "display_data"
    }
   ],
   "source": [
    "# create and train the model\n",
    "mod = cell2location.models.Cell2location(\n",
    "    adata_vis, cell_state_df=inf_aver,\n",
    "    # the expected average cell abundance: tissue-dependent\n",
    "    # hyper-prior which can be estimated from paired histology:\n",
    "    N_cells_per_location=20,\n",
    "    # hyperparameter controlling normalisation of\n",
    "    # within-experiment variation in RNA detection:\n",
    "    detection_alpha=200\n",
    ")\n",
    "mod.view_anndata_setup()"
   ]
  },
  {
   "cell_type": "markdown",
   "id": "340576b1-4891-4554-b820-ae7350a89eb2",
   "metadata": {},
   "source": [
    "这里我们使用一个较小的迭代次数，减小模型训练时间"
   ]
  },
  {
   "cell_type": "code",
   "execution_count": null,
   "id": "887032af-432b-44b3-9b21-3d0b43d5f152",
   "metadata": {},
   "outputs": [],
   "source": [
    "## 使用GPU训练\n",
    "# import torch\n",
    "# if torch.cuda.is_available():\n",
    "#     mod.train(max_epochs=10000, batch_size=None, train_size=1, use_gpu=True)"
   ]
  },
  {
   "cell_type": "code",
   "execution_count": 17,
   "id": "d6521606-d8e0-43c1-80a7-dbc147241aa6",
   "metadata": {},
   "outputs": [
    {
     "name": "stderr",
     "output_type": "stream",
     "text": [
      "GPU available: False, used: False\n",
      "TPU available: False, using: 0 TPU cores\n",
      "IPU available: False, using: 0 IPUs\n",
      "HPU available: False, using: 0 HPUs\n",
      "/home/conda/envs/scrna/lib/python3.9/site-packages/pytorch_lightning/trainer/configuration_validator.py:105: UserWarning: You passed in a `val_dataloader` but have no `validation_step`. Skipping val loop.\n",
      "  rank_zero_warn(\"You passed in a `val_dataloader` but have no `validation_step`. Skipping val loop.\")\n",
      "/home/conda/envs/scrna/lib/python3.9/site-packages/pytorch_lightning/trainer/trainer.py:1892: PossibleUserWarning: The number of training batches (1) is smaller than the logging interval Trainer(log_every_n_steps=10). Set a lower value for log_every_n_steps if you want to see logs for the training epoch.\n",
      "  rank_zero_warn(\n"
     ]
    },
    {
     "name": "stdout",
     "output_type": "stream",
     "text": [
      "Epoch 2902/10000:  29%|██     | 2901/10000 [2:38:32<6:03:49,  3.08s/it, v_num=1, elbo_train=1.04e+8]"
     ]
    },
    {
     "name": "stderr",
     "output_type": "stream",
     "text": [
      "IOPub message rate exceeded.\n",
      "The notebook server will temporarily stop sending output\n",
      "to the client in order to avoid crashing it.\n",
      "To change this limit, set the config variable\n",
      "`--NotebookApp.iopub_msg_rate_limit`.\n",
      "\n",
      "Current values:\n",
      "NotebookApp.iopub_msg_rate_limit=1000.0 (msgs/sec)\n",
      "NotebookApp.rate_limit_window=3.0 (secs)\n",
      "\n"
     ]
    },
    {
     "name": "stdout",
     "output_type": "stream",
     "text": [
      "Epoch 6788/10000:  68%|████▊  | 6787/10000 [6:09:33<2:59:12,  3.35s/it, v_num=1, elbo_train=1.04e+8]"
     ]
    },
    {
     "name": "stderr",
     "output_type": "stream",
     "text": [
      "IOPub message rate exceeded.\n",
      "The notebook server will temporarily stop sending output\n",
      "to the client in order to avoid crashing it.\n",
      "To change this limit, set the config variable\n",
      "`--NotebookApp.iopub_msg_rate_limit`.\n",
      "\n",
      "Current values:\n",
      "NotebookApp.iopub_msg_rate_limit=1000.0 (msgs/sec)\n",
      "NotebookApp.rate_limit_window=3.0 (secs)\n",
      "\n"
     ]
    },
    {
     "name": "stdout",
     "output_type": "stream",
     "text": [
      "Epoch 10000/10000: 100%|███████| 10000/10000 [9:00:52<00:00,  3.03s/it, v_num=1, elbo_train=1.03e+8]"
     ]
    },
    {
     "name": "stderr",
     "output_type": "stream",
     "text": [
      "`Trainer.fit` stopped: `max_epochs=10000` reached.\n"
     ]
    },
    {
     "name": "stdout",
     "output_type": "stream",
     "text": [
      "Epoch 10000/10000: 100%|███████| 10000/10000 [9:00:52<00:00,  3.25s/it, v_num=1, elbo_train=1.03e+8]\n"
     ]
    },
    {
     "data": {
      "image/png": "[encoded data removed]",
      "text/plain": [
       "<Figure size 640x480 with 1 Axes>"
      ]
     },
     "metadata": {},
     "output_type": "display_data"
    }
   ],
   "source": [
    "mod.train(max_epochs=10000,\n",
    "          # train using full data (batch_size=None)\n",
    "          batch_size=None,\n",
    "          # use all data points in training because\n",
    "          # we need to estimate cell abundance at all locations\n",
    "          train_size=1,\n",
    "          use_gpu=False,\n",
    "         )\n",
    "\n",
    "# plot ELBO loss history during training, removing first 100 epochs from the plot\n",
    "mod.plot_history(1000)\n",
    "plt.legend(labels=['full data training']);"
   ]
  },
  {
   "cell_type": "markdown",
   "id": "2c70530c-a648-4e7d-a42a-5716299dced0",
   "metadata": {},
   "source": [
    "cell2location最终的结果是输出一个后验概率，用来表示spot中不同细胞类型的丰度。\n",
    "最终的结果存储在`adata_vis.obsm`中。\n",
    "- 注意： cell2location给出的每种细胞在每个spot中的后验概率其实是一个分布。export_posterior函数输出的是这个分布的均值，5%分位数，95%分位数来代表这个分布。"
   ]
  },
  {
   "cell_type": "code",
   "execution_count": 18,
   "id": "8864b8db-7be9-4fe9-8e43-cee8c16d0e41",
   "metadata": {},
   "outputs": [
    {
     "name": "stdout",
     "output_type": "stream",
     "text": [
      "Sampling local variables, batch: 100%|███████████████████████████████| 1/1 [07:40<00:00, 460.65s/it]\n",
      "Sampling global variables, sample: 100%|██████████████████████████| 999/999 [06:21<00:00,  2.62it/s]\n"
     ]
    },
    {
     "data": {
      "text/plain": [
       "'./results//cell2location_map/sp.h5ad'"
      ]
     },
     "execution_count": 18,
     "metadata": {},
     "output_type": "execute_result"
    }
   ],
   "source": [
    "# In this section, we export the estimated cell abundance (summary of the posterior distribution).\n",
    "adata_vis = mod.export_posterior(\n",
    "    adata_vis, sample_kwargs={'num_samples': 1000, 'batch_size': mod.adata.n_obs, 'use_gpu': False}\n",
    ")\n",
    "\n",
    "# Save model\n",
    "mod.save(f\"{run_name}\", overwrite=True)\n",
    "\n",
    "# mod = cell2location.models.Cell2location.load(f\"{run_name}\", adata_vis)\n",
    "\n",
    "# Save anndata object with results\n",
    "adata_file = f\"{run_name}/sp.h5ad\"\n",
    "adata_vis.write(adata_file)\n",
    "adata_file"
   ]
  },
  {
   "cell_type": "markdown",
   "id": "5ad0b43f-e5e1-4a76-9f0e-f661992b4b2e",
   "metadata": {},
   "source": [
    "散点图具有正相关的趋势说明模型可以用来解释数据"
   ]
  },
  {
   "cell_type": "code",
   "execution_count": 19,
   "id": "a06e420b-d9de-4433-b53d-9885903bf9a3",
   "metadata": {},
   "outputs": [
    {
     "data": {
      "image/png": "[encoded data removed]",
      "text/plain": [
       "<Figure size 640x480 with 1 Axes>"
      ]
     },
     "metadata": {},
     "output_type": "display_data"
    }
   ],
   "source": [
    "mod.plot_QC()"
   ]
  }
 ],
 "metadata": {
  "kernelspec": {
   "display_name": "Python [conda env:scrna]",
   "language": "python",
   "name": "conda-env-scrna-py"
  },
  "language_info": {
   "codemirror_mode": {
    "name": "ipython",
    "version": 3
   },
   "file_extension": ".py",
   "mimetype": "text/x-python",
   "name": "python",
   "nbconvert_exporter": "python",
   "pygments_lexer": "ipython3",
   "version": "3.9.13"
  }
 },
 "nbformat": 4,
 "nbformat_minor": 5
}
