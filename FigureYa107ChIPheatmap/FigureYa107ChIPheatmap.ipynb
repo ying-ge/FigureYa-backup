{
  "cells": [
    {
      "cell_type": "markdown",
      "metadata": {
        "id": "0ep-Zj-OeB_A"
      },
      "source": [
        "# FigureYa107ChIPheatmap\n",
        "\n",
        "title: \"FigureYa107ChIPheatmap\"\n",
        "\n",
        "author: \"Long Zhao, Taojun Ye\"\n",
        "\n",
        "reviewer: \"Ying Ge\"\n",
        "\n",
        "date: \"2025-5-20\"\n",
        "\n",
        "output: html_document\n",
        "\n",
        "## 需求描述\n",
        "\n",
        "复现这个图，左侧按ChIP-seq聚类，右侧ATAC-seq行的排序跟左侧对应一致。\n",
        "\n",
        "![](example.png)\n",
        "\n",
        "出自：<http://genesdev.cshlp.org/content/32/2/96.long>\n",
        "\n",
        "对这篇文章的解读：<https://mp.weixin.qq.com/s/zmf0GMdGZqNxseFZKHooOw>\n",
        "\n",
        "##Requirement description\n",
        "\n",
        "Reproduce this image, cluster the left side according to ChIP seq, and the sorting of the ATAC seq rows on the right side corresponds to the left side.\n",
        "\n",
        "! [] (example. png)\n",
        "\n",
        "from:< http://genesdev.cshlp.org/content/32/2/96.long >\n",
        "\n",
        "Interpretation of this article:< https://mp.weixin.qq.com/s/zmf0GMdGZqNxseFZKHooOw >\n",
        "\n",
        "## 应用场景\n",
        "\n",
        "不仅限于按ChIP-seq的顺序排ATAC-seq，还可以自己组合各种factor的ChIP-seq，进而发现规律。\n",
        "\n",
        "例如：在转录因子结合位点，染色质开放程度是怎样的？组蛋白修饰的分布是怎样的？\n",
        "\n",
        "场景一：手上有多组ChIP-seq/ATAC-seq数据，按一种数据的聚类来排序，从其他数据的分布中发现规律。\n",
        "\n",
        "场景二：自己只测了一两个样品的ChIP-seq/ATAC-seq，只画一条多难看，可以再找些公共数据，按这个画法，能深挖出更多规律。\n",
        "\n",
        "##Application scenarios\n",
        "\n",
        "Not limited to arranging ATAC seq in the order of ChIP seq, one can also combine ChIP seq of various factors to discover patterns.\n",
        "\n",
        "For example, what is the degree of chromatin opening at transcription factor binding sites? What is the distribution of histone modifications?\n",
        "\n",
        "Scenario 1: There are multiple sets of ChIP seq/ATAC seq data in hand, sorted by clustering one type of data, and patterns are discovered from the distribution of other data.\n",
        "\n",
        "Scenario 2: I only tested the ChIP seq/ATAC seq of one or two samples, and drawing only one line is not very good. You can find some public data and use this drawing method to dig out more patterns.\n",
        "\n",
        "## 环境设置\n",
        "\n",
        "下载并安装Anaconda发行版，https://www.anaconda.com/distribution/#download-section\n",
        "\n",
        "用Jupyter notebook打开FigureYa107ChIPheatmap.ipynb文档\n",
        "\n",
        "**用法参考这篇：**<https://mp.weixin.qq.com/s/G-CQhNEJBmMRuDe2kxND_w>\n",
        "\n",
        "通过conda安装deeptools：\n",
        "\n",
        "##Environment settings\n",
        "\n",
        "Download and install the Anaconda distribution, https://www.anaconda.com/distribution/#download -section\n",
        "\n",
        "Open the FigureYa107ChIPheatmap.ipynb document with Jupyter notebook\n",
        "\n",
        "**Refer to this article for usage:**< https://mp.weixin.qq.com/s/G-CQhNEJBmMRuDe2kxND_w >\n",
        "\n",
        "Install Deeptools through conda:\n"
      ]
    },
    {
      "cell_type": "code",
      "execution_count": null,
      "metadata": {
        "id": "WslWM-y4eB_C",
        "outputId": "edf279bc-c2be-4898-acef-347edc700375"
      },
      "outputs": [
        {
          "name": "stdout",
          "output_type": "stream",
          "text": [
            "/opt/anaconda3/envs/fresh_env/bin/python\n"
          ]
        }
      ],
      "source": [
        "import sys\n",
        "print(sys.executable)"
      ]
    },
    {
      "cell_type": "code",
      "execution_count": null,
      "metadata": {
        "id": "Mx867FnYeB_D"
      },
      "outputs": [],
      "source": [
        "!conda install -c bioconda deeptools"
      ]
    },
    {
      "cell_type": "markdown",
      "metadata": {
        "id": "a50EUefMeB_D"
      },
      "source": [
        "## 输入数据的准备\n",
        "\n",
        "如果你的ChIP-seq/ATAC-seq数据已经保存为bw文件，并且有相应的peak.bed文件，就可以跳过这步，直接进入“开始画图”。\n",
        "\n",
        "##Preparation of input data\n",
        "\n",
        "If your ChIP seq/ATAC seq data has already been saved as a bw file and there is a corresponding peak.bed file, you can skip this step and directly enter \"Start Drawing\".\n",
        "\n",
        "### 数据下载\n",
        "\n",
        "测序数据在发表文章时，作者会把数据上传到GEO/SRA数据库，GEO里除了原始的fastq文件外，往往还会提供bigwig（bw）文件、或bedGraph文件，以及peak.bed文件等等。\n",
        "\n",
        "**哪些数据更靠谱？**推荐首选高影响因子的文章里的数据，快速查询高分数据的方式，可参考FigureYa104GEOmining。\n",
        "\n",
        "例文的数据链接：<https://www.ncbi.nlm.nih.gov/geo/query/acc.cgi?acc=GSE107242>，点击Download中的(custom)，选择以下文件下载：\n",
        "\n",
        "###Data Download\n",
        "\n",
        "When publishing sequencing data, authors will upload the data to the GEO/SRA database. In addition to the original fastq file, GEO often provides bigwig (bw) files, bedGraph files, peak.bed files, and so on.\n",
        "\n",
        "**Which data is more reliable? **Recommend selecting data from articles with high impact factors, and refer to Figure Ya104 GEOmining for a quick way to query high scoring data.\n",
        "\n",
        "Data link for example text:< https://www.ncbi.nlm.nih.gov/geo/query/acc.cgi?acc=GSE107242 >Click on (custom) in Download and select the following file to download:\n",
        "\n",
        "GSM2863128_N06_0.RPKM_nor.bw\n",
        "\n",
        "GSM2863129_NO6_24.RPKM_nor.bw\n",
        "\n",
        "GSM2863130_NO6_72.RPKM_nor.bw\n",
        "\n",
        "GSM2863131_NO6_cd19pos.RPKM_nor.bw\n",
        "\n",
        "GSM2863142_Input_NO14_24_mm9.bedGraph.gz\n",
        "\n",
        "GSM2863147_EBF1_NO14_24_mm9.bedGraph.gz\n",
        "\n",
        "GSM2863148_EBF1_NO14_72_mm9.bedGraph.gz\n",
        "\n",
        "GSM2863149_EBF1_NO14_cd19pos_mm9.bedGraph.gz\n",
        "\n",
        "### 转换bedgraph到bigwig文件\n",
        "\n",
        "例文给出的ChIP-seq数据是bedgraph格式，需要转换成bigwig文件。用的是UCSC的bedGraphToBigWig，用法参考这里的Example 3：\n",
        "<http://genome.ucsc.edu/goldenPath/help/bigWig.html>\n",
        "\n",
        "下载工具：bedGraphToBigWig，根据自己的系统选择合适的版本\n",
        "\n",
        "###Convert bedgraph to bigwig file\n",
        "\n",
        "The ChIP seq data provided in the example text is in bedgraph format and needs to be converted into a bigwig file. I am using UCSC's bedGraphToBigWig, refer to Example 3 for usage here:< http://genome.ucsc.edu/goldenPath/help/bigWig.html >\n",
        "\n",
        "Download tool: bedGraphToBigWig, choose the appropriate version according to your own system"
      ]
    },
    {
      "cell_type": "code",
      "execution_count": null,
      "metadata": {
        "id": "wY_EIz3keB_D"
      },
      "outputs": [],
      "source": [
        "#我用wget下载，你也可以复制粘贴地址，直接从浏览器下载\n",
        "#I downloaded it using wget, but you can also copy and paste the address and download it directly from the browser\n",
        "!wget http://hgdownload.soe.ucsc.edu/admin/exe/linux.x86_64/bedGraphToBigWig\n",
        "!wget http://hgdownload.soe.ucsc.edu/admin/exe/macOSX.x86_64/bedGraphToBigWig\n",
        "!chmod 775 bedGraphToBigWig"
      ]
    },
    {
      "cell_type": "markdown",
      "metadata": {
        "id": "L_HW_69ieB_D"
      },
      "source": [
        "有可能需要添加环境变量\n",
        "\n",
        "下载mm9的染色体长度的文件\n",
        "\n",
        "It may be necessary to add environment variables\n",
        "\n",
        "Download the file of chromosome length for mm9"
      ]
    },
    {
      "cell_type": "code",
      "execution_count": null,
      "metadata": {
        "id": "PcS9ePH2eB_E",
        "outputId": "bfeba763-c84f-44bb-9f17-a1dd3e83f09d"
      },
      "outputs": [
        {
          "name": "stdout",
          "output_type": "stream",
          "text": [
            "--2025-06-04 18:34:22--  http://hgdownload.cse.ucsc.edu/goldenPath/mm9/bigZips/mm9.chrom.sizes\n",
            "Resolving hgdownload.cse.ucsc.edu (hgdownload.cse.ucsc.edu)... 128.114.119.163\n",
            "connected. to hgdownload.cse.ucsc.edu (hgdownload.cse.ucsc.edu)|128.114.119.163|:80... \n",
            "200 OKequest sent, awaiting response... \n",
            "Length: 584\n",
            "Saving to: ‘mm9.chrom.sizes’\n",
            "\n",
            "mm9.chrom.sizes     100%[===================>]     584  --.-KB/s    in 0s      \n",
            "\n",
            "2025-06-04 18:34:24 (111 MB/s) - ‘mm9.chrom.sizes’ saved [584/584]\n",
            "\n"
          ]
        }
      ],
      "source": [
        "!/opt/homebrew/bin/wget http://hgdownload.cse.ucsc.edu/goldenPath/mm9/bigZips/mm9.chrom.sizes"
      ]
    },
    {
      "cell_type": "markdown",
      "metadata": {
        "id": "oUGZAZIjeB_E"
      },
      "source": [
        "现在就可以把ChIP-seq的bedGraph文件转成bw了：\n",
        "\n",
        "Now you can convert the ChIP seq bedGraph file to bw:"
      ]
    },
    {
      "cell_type": "code",
      "execution_count": null,
      "metadata": {
        "scrolled": true,
        "id": "mbuCl2-geB_E"
      },
      "outputs": [],
      "source": [
        "!for file in *.bedGraph.peak.bed; do sort -k1,1 -k2,2n $file > $file.sorted.bedGraph; ./bedGraphToBigWig $file.sorted.bedGraph mm9.chrom.sizes $file.bw; rm $file.sorted.bedGraph; done\n"
      ]
    },
    {
      "cell_type": "markdown",
      "metadata": {
        "id": "PfTBTF3ueB_E"
      },
      "source": [
        "### 获得peak.bed\n",
        "\n",
        "可以跳过这步，直接用我跑好的allpeak.bed文件\n",
        "\n",
        "文章没有提供每个样品的peak文件，找peak不是这里的重点，就不从mapping开始跑了。仅从文章提供的EBF1 ChIP-seq的bedgraph文件开始做，定义较高的位置为peak，作为示例文件。有点粗糙，但足够用于展示需求描述所需解决的问题。\n",
        "\n",
        "###Get peak.bed\n",
        "\n",
        "You can skip this step and directly use the allpeak.bed file that I have run\n",
        "\n",
        "The article did not provide a peak file for each sample, so finding the peak is not the focus here, so we won't start with mapping. Starting from the bedgraph file of EBF1 ChIP seq provided in the article, define the higher position as peak as an example file. A bit rough, but sufficient to demonstrate the problem that needs to be solved in the requirement description."
      ]
    },
    {
      "cell_type": "code",
      "execution_count": null,
      "metadata": {
        "id": "vuuGJ3GgeB_E"
      },
      "outputs": [],
      "source": [
        "# 筛选所有GSM编号的EBF1相关bedGraph文件中信号值大于80的区域，输出为peak.bed格式\n",
        "# 语法说明：$4表示第四列数据(通常是信号值)，$file.peak.bed是输出文件名\n",
        "# Filter regions with signal value >80 from all GSM EBF1-related bedGraph files, output as peak.bed format\n",
        "# Syntax explanation: $4 refers to the fourth column (usually signal value), $file.peak.bed is the output filename\n",
        "!for file in GSM*_EBF1_*.bedGraph; do awk '$4> 80 {print}' $file > $file.peak.bed; done\n",
        "\n",
        "# 通过bioconda渠道安装bedtools工具集(用于基因组区间操作)\n",
        "# 注意：需要提前配置好conda环境和bioconda渠道\n",
        "# Install bedtools toolkit via bioconda channel (for genomic interval operations)\n",
        "# Note: Conda environment and bioconda channel need to be configured in advance\n",
        "!conda install -c bioconda bedtools\n",
        "\n",
        "# 合并所有peak.bed文件并进行坐标排序，然后使用bedtools合并重叠区间\n",
        "# 排序参数说明：-k1.1V按染色体名称排序，-k2,2n和-k3,3n按起始和终止坐标数值排序\n",
        "# Merge all peak.bed files, sort by genomic coordinates, and merge overlapping intervals using bedtools\n",
        "# Sorting parameters: -k1.1V sorts by chromosome name, -k2,2n and -k3,3n sort by start and end coordinates numerically\n",
        "!cat *.peak.bed | sort -k1.1V -k2,2n -k3,3n| bedtools merge -i - > allpeak.bed"
      ]
    },
    {
      "cell_type": "markdown",
      "metadata": {
        "id": "kTP3u7eNeB_E"
      },
      "source": [
        "**附：**正常的做法是用MACS2从每个样本的bam文件里call出peak.bed，例如：\n",
        "\n",
        "**Attachment: * * The normal practice is to use MACS2 to call peak.bed from the BAM file of each sample, for example:\n",
        "\n",
        "```bash\n",
        "macs2 callpeak -c Input.bam -t treatment.bam -q 0.05 -f BAM -g mm -n treatment 2> treatment.macs2.log\n",
        "```"
      ]
    },
    {
      "cell_type": "markdown",
      "metadata": {
        "id": "u6qv2FuOeB_F"
      },
      "source": [
        "## 开始画图-左侧ChIP-seq\n",
        "\n",
        "每次运行computeMatrix大概需要10分钟，具体用法参见<https://deeptools.readthedocs.io/en/develop/content/tools/computeMatrix.html?highlight=computeMatrix>，下面是computeMatrix的主要参数说明：\n",
        "--referencePoint center：中间对齐\n",
        "-b 3000 -a 3000：前后距离\n",
        "-R xx.bed：bed文件\n",
        "-S Input.bw 24_EBF1.bw 72_EBF1.bw prob_EBF1.bw：准备的bigwig文件\n",
        "\n",
        "plotHeatmap的具体用法参见<https://deeptools.readthedocs.io/en/develop/content/tools/plotHeatmap.html?highlight=plotHeatmap>，主要参数说明：\n",
        "--zMax 150 ： colorbar的最大值，对应的还有最小值--zMin\n",
        "这里有一个关键是--outFileSortedRegions这个参数。\n",
        "这里输出的bed文件就是我们heatmap对应的文件。主要用于绘制后面ATAC的heatmap与之对应。\n",
        "\n",
        "##Start drawing - ChIP seq on the left\n",
        "\n",
        "It takes about 10 minutes to run computeMatrix each time. For specific usage, please refer to< https://deeptools.readthedocs.io/en/develop/content/tools/computeMatrix.html?highlight=computeMatrix >Here are the main parameter descriptions of computeMatrix:\n",
        "--ReferencePoint center: center alignment\n",
        "-B 3000- a 3000: Front to back distance\n",
        "-R xx.bed: bed file\n",
        "-S Input.bw 24_SBF1.bw 72_SBF1.bw prob_SBF1.bw: prepared bigwig file\n",
        "\n",
        "For the specific usage of plotHeatmap, please refer to< https://deeptools.readthedocs.io/en/develop/content/tools/plotHeatmap.html?highlight=plotHeatmap >Main parameter description:\n",
        "--ZMax 150: The maximum value of colorbar corresponds to the minimum value - zMin\n",
        "There is a key parameter here - outFileSortedRegions.\n",
        "The bed file output here is the file corresponding to our heatmap. Mainly used to draw the heatmap corresponding to ATAC in the future."
      ]
    },
    {
      "cell_type": "code",
      "execution_count": null,
      "metadata": {
        "id": "-TAH0J6keB_F"
      },
      "outputs": [],
      "source": [
        "# 使用deepTools的computeMatrix工具计算峰区域(center点)上下游3kb范围内的信号矩阵\n",
        "# 参数说明：\n",
        "# --referencePoint center：以峰中心为参考点\n",
        "# -b 3000 -a 3000：参考点上下游各扩展3000bp\n",
        "# --missingDataAsZero：将缺失数据视为0\n",
        "# --skipZeros：跳过全零区域提高计算效率\n",
        "# -p 40：使用40个线程并行计算\n",
        "# -R：输入的参考区域文件(allpeak.bed)\n",
        "# -S：输入的信号值文件(多个bigWig格式)\n",
        "# -o：输出的矩阵文件名(nom.gz)\n",
        "# Calculate signal matrix for 3kb regions around peak centers using deepTools' computeMatrix\n",
        "# Parameter explanation:\n",
        "# --referencePoint center: Use peak center as reference point\n",
        "# -b 3000 -a 3000: Extend 3000bp upstream and downstream from reference point\n",
        "# --missingDataAsZero: Treat missing data as 0\n",
        "# --skipZeros: Skip regions with all zeros to improve efficiency\n",
        "# -p 40: Use 40 threads for parallel computation\n",
        "# -R: Input reference regions file (allpeak.bed)\n",
        "# -S: Input signal files (multiple bigWig format)\n",
        "# -o: Output matrix file (nom.gz)\n",
        "!computeMatrix reference-point --referencePoint center -b 3000 -a 3000 --missingDataAsZero --skipZeros -p 40 -R allpeak.bed -S GSM2863142_Input_NO14_24_mm9.bedGraph.bw GSM2863147_EBF1_NO14_24_mm9.bedGraph.bw GSM2863148_EBF1_NO14_72_mm9.bedGraph.bw GSM2863149_EBF1_NO14_cd19pos_mm9.bedGraph.bw -o nom.gz\n",
        "\n",
        "# 使用plotHeatmap工具基于计算的矩阵绘制热图，并输出聚类后的区域文件\n",
        "# 参数说明：\n",
        "# -m：输入的矩阵文件(nom.gz)\n",
        "# -out：输出的热图文件名(ChIP-pre.pdf)\n",
        "# --zMax 150：颜色映射的最大值设为150\n",
        "# --kmeans 5：使用k-means算法将区域聚为5类\n",
        "# --outFileSortedRegions：输出聚类排序后的区域文件\n",
        "# --samplesLabel：为每个样本指定标签\n",
        "# Generate heatmap from computed matrix using plotHeatmap, and output clustered regions\n",
        "# Parameter explanation:\n",
        "# -m: Input matrix file (nom.gz)\n",
        "# -out: Output heatmap file (ChIP-pre.pdf)\n",
        "# --zMax 150: Set maximum value for color scale to 150\n",
        "# --kmeans 5: Cluster regions into 5 groups using k-means algorithm\n",
        "# --outFileSortedRegions: Output file for sorted/clustered regions\n",
        "# --samplesLabel: Assign labels to each sample\n",
        "!plotHeatmap -m nom.gz -out ChIP-pre.pdf --zMax 150 --kmeans 5 --outFileSortedRegions Heatmap1sortedRegions.bed --samplesLabel 0hrs 24hrs 72hrs pro-B"
      ]
    },
    {
      "cell_type": "markdown",
      "metadata": {
        "id": "65OvLnr8eB_F"
      },
      "source": [
        "生成的图在ChIP-pre.pdf里，位于当前文件夹。可以看出最上面两个cluster里的信号不像peak，这是上面找peak的方式粗糙导致的，正常自己的peak文件中应该不会存在这种情况。我们把这些异常的peak删掉就好了：\n",
        "\n",
        "The generated image is in ChIP pre. pdf, located in the current folder. It can be seen that the signals in the top two clusters are not like peaks, which is caused by the rough way of finding peaks above. Normally, this situation should not exist in one's own peak file. We just need to delete these abnormal peaks:"
      ]
    },
    {
      "cell_type": "code",
      "execution_count": null,
      "metadata": {
        "id": "N1yorFoUeB_F"
      },
      "outputs": [],
      "source": [
        "# 从热图聚类结果中筛选出不属于cluster_1和cluster_2的peak区域\n",
        "# 语法说明：\n",
        "# grep -v：反向筛选，排除匹配的行\n",
        "# 首先排除cluster_1，然后在剩余结果中排除cluster_2\n",
        "# 最终结果输出到allpeak2.bed，用于后续分析\n",
        "# Filter out peaks belonging to cluster_1 and cluster_2 from the heatmap clustering results\n",
        "# Syntax explanation:\n",
        "# grep -v: Inverse filtering, exclude lines that match the pattern\n",
        "# First exclude cluster_1, then exclude cluster_2 from the remaining results\n",
        "# The final result is output to allpeak2.bed for subsequent analysis\n",
        "!grep -v cluster_1 Heatmap1sortedRegions.bed | grep -v cluster_2 > allpeak2.bed"
      ]
    },
    {
      "cell_type": "markdown",
      "metadata": {
        "id": "l3yze1bNeB_F"
      },
      "source": [
        "然后再运行一次\n",
        "\n",
        "Then run it again"
      ]
    },
    {
      "cell_type": "code",
      "execution_count": null,
      "metadata": {
        "id": "LiJbM1aWeB_F"
      },
      "outputs": [],
      "source": [
        "#计算矩阵\n",
        "!computeMatrix reference-point --referencePoint center -b 3000 -a 3000 --missingDataAsZero --skipZeros -p 40 -R allpeak2.bed -S GSM2863142_Input_NO14_24_mm9.bedGraph.bw GSM2863147_EBF1_NO14_24_mm9.bedGraph.bw GSM2863148_EBF1_NO14_72_mm9.bedGraph.bw GSM2863149_EBF1_NO14_cd19pos_mm9.bedGraph.bw -o nom.gz\n",
        "#画图，并输出bed文件，用于画右侧ATAC-seq\n",
        "!plotHeatmap -m nom.gz -out ChIP.pdf --zMax 150 --kmeans 5 --outFileSortedRegions Heatmap1sortedRegions.bed --samplesLabel 0hrs 24hrs 72hrs pro-B\n",
        "#如果不想画average profile，就加上参数：--whatToShow \"heatmap and colorbar\""
      ]
    },
    {
      "cell_type": "markdown",
      "metadata": {
        "id": "er5dC2p0eB_F"
      },
      "source": [
        "生成的图在ChIP.pdf里，位于当前文件夹。\n",
        "\n",
        "ChIP.pdf蓝色最大值已经超过100，原文只有16，这与生成bigwig文件时bamCoverage --normalizeUsing RPKM或其他标准化方法（CPM, BPM, RPGC）有很大关系。同时还跟这一步用bin的大小有关。\n",
        "\n",
        "这里我觉得主要是bin的大小的原因。--binSize 越大，这个值就越大。所以我估计原文画图的时候用的bin是比较小的。\n",
        "\n",
        "原文没有提供bw文件，我们通过bedgraph转过来，这个bin就有点大，所以数值就偏大。\n",
        "\n",
        "看后面ATAC-seq的大小跟文章就很一致，因为用的是文章提供的bigwig文件。\n",
        "\n",
        "具体分析自己的数据时，左右两侧数据从头开始用同样的标准和参数处理就可以了。\n",
        "\n",
        "The generated image is located in ChIP.pdf, in the current folder.\n",
        "\n",
        "The maximum blue value of ChIP.pdf has exceeded 100, while the original text only has 16, which is closely related to the normalization using RPKM or other standardization methods (CPM, BPM, RPGC) when generating bigwig files. It is also related to the size of the bin used in this step.\n",
        "\n",
        "I think the main reason here is the size of the bin. --The larger the binSize, the greater this value. So I estimate that the bin used in the original drawing was relatively small.\n",
        "\n",
        "The original text did not provide a BW file. We converted it through the bedgraph, and this bin is a bit large, so the value is biased towards a larger value.\n",
        "\n",
        "The size of ATAC seq is consistent with the article, as it uses the bigwig file provided in the article. When analyzing one's own data specifically, the data on both sides can be processed from scratch using the same standards and parameters."
      ]
    },
    {
      "cell_type": "markdown",
      "metadata": {
        "id": "Emb-e53_eB_F"
      },
      "source": [
        "## 开始画图-右侧ATAC-seq\n",
        "\n",
        "computeMatrix里用到的-R为上面画ChIP-seq的图时输出的bed文件，里面是有顺序的。\n",
        "\n",
        "plotHeatmap的主要参数：\n",
        "\n",
        "--sortRegions keep ： 这个参数是一个关键，要保证和ChIP-seq的顺序是一致的。\n",
        "\n",
        "--colorMap 'Greens'：颜色，deeptools还有很多颜色可以选，具体参考help。\n",
        "\n",
        "--whatToShow ：这个是展示heatmap还是带有profile的heatmap还是其他。可以参考help。\n",
        "\n",
        "--samplesLabel： 标签的label\n",
        "\n",
        "##Start drawing - ATAC seq on the right\n",
        "\n",
        "The - R used in computeMatrix is the bed file output when drawing the ChIP seq graph above, which is in order.\n",
        "\n",
        "The main parameters of plotHeatmap are:\n",
        "\n",
        "--SortRegions keep: This parameter is crucial to ensure consistency with the order of ChIP seq.\n",
        "\n",
        "--ColorMap 'Greens': There are many colors to choose from in deeptools, please refer to help for details.\n",
        "\n",
        "--WhatsApp Show: Is this showing a heatmap or a heatmap with a profile, or something else. You can refer to help.\n",
        "\n",
        "--SamplesLabel: label of the label"
      ]
    },
    {
      "cell_type": "code",
      "execution_count": null,
      "metadata": {
        "id": "24ngoQM6eB_G"
      },
      "outputs": [],
      "source": [
        "# 使用deepTools的computeMatrix工具计算热图聚类区域(center点)上下游3kb范围内的信号矩阵\n",
        "# 参数说明：\n",
        "# --referencePoint center：以区域中心为参考点\n",
        "# -b 3000 -a 3000：参考点上下游各扩展3000bp\n",
        "# --missingDataAsZero：将缺失数据视为0\n",
        "# --skipZeros：跳过全零区域提高计算效率\n",
        "# -p 40：使用40个线程并行计算\n",
        "# -R：输入的参考区域文件(Heatmap1sortedRegions.bed)\n",
        "# -S：输入的信号值文件(多个bigWig格式)\n",
        "# -o：输出的矩阵文件名(nom2.gz)\n",
        "# Calculate signal matrix for 3kb regions around centers of clustered regions using deepTools' computeMatrix\n",
        "# Parameter explanation:\n",
        "# --referencePoint center: Use region center as reference point\n",
        "# -b 3000 -a 3000: Extend 3000bp upstream and downstream from reference point\n",
        "# --missingDataAsZero: Treat missing data as 0\n",
        "# --skipZeros: Skip regions with all zeros to improve efficiency\n",
        "# -p 40: Use 40 threads for parallel computation\n",
        "# -R: Input reference regions file (Heatmap1sortedRegions.bed)\n",
        "# -S: Input signal files (multiple bigWig format)\n",
        "# -o: Output matrix file (nom2.gz)\n",
        "!computeMatrix reference-point --referencePoint center -b 3000 -a 3000 --missingDataAsZero --skipZeros -p 40 -R Heatmap1sortedRegions.bed -S  GSM2863128_N06_0.RPKM_nor.bw GSM2863129_NO6_24.RPKM_nor.bw GSM2863130_NO6_72.RPKM_nor.bw GSM2863131_NO6_cd19pos.RPKM_nor.bw -o nom2.gz\n",
        "\n",
        "# 使用plotHeatmap工具基于计算的矩阵绘制热图\n",
        "# 参数说明：\n",
        "# -m：输入的矩阵文件(nom2.gz)\n",
        "# -out：输出的热图文件名(ATAC.pdf)\n",
        "# --sortRegions keep：保持输入文件的区域顺序(不重新排序)\n",
        "# --zMax 15：颜色映射的最大值设为15\n",
        "# --colorMap 'Greens'：使用绿色系的颜色映射\n",
        "# --samplesLabel：为每个样本指定标签\n",
        "# --whatToShow \"heatmap and colorbar\"：只显示热图和颜色条(不显示平均曲线)\n",
        "# Generate heatmap from computed matrix using plotHeatmap\n",
        "# Parameter explanation:\n",
        "# -m: Input matrix file (nom2.gz)\n",
        "# -out: Output heatmap file (ATAC.pdf)\n",
        "# --sortRegions keep: Maintain input region order (do not re-sort)\n",
        "# --zMax 15: Set maximum value for color scale to 15\n",
        "# --colorMap 'Greens': Use green color palette\n",
        "# --samplesLabel: Assign labels to each sample\n",
        "# --whatToShow \"heatmap and colorbar\": Show only heatmap and colorbar (no average profile)\n",
        "!plotHeatmap -m nom2.gz -out ATAC.pdf --sortRegions keep --zMax 15 --colorMap 'Greens' --samplesLabel 0hrs 24hrs 72hrs pro-B\n",
        "# If you don't want to show the average profile, add the parameter: --whatToShow \"heatmap and colorbar\""
      ]
    },
    {
      "cell_type": "markdown",
      "metadata": {
        "id": "Bf1GLsUReB_G"
      },
      "source": [
        "生成的图在ATAC.pdf里，位于当前文件夹\n",
        "\n",
        "The generated image is located in the current folder of ATAC.gdf\n",
        "\n",
        "## 后期处理\n",
        "\n",
        "输出的pdf文件都是矢量图，可以在Illustrator等编辑器里打开，编辑图形、文字、组图。\n",
        "\n",
        "##Post processing\n",
        "\n",
        "The output PDF files are all vector graphics that can be opened in editors such as Illustrator to edit graphics, text, and group images."
      ]
    },
    {
      "cell_type": "code",
      "execution_count": null,
      "metadata": {
        "id": "H2fuirRAeB_G",
        "outputId": "c3753711-9608-4755-e411-0151938bbf43"
      },
      "outputs": [
        {
          "name": "stdout",
          "output_type": "stream",
          "text": [
            "{'commit_hash': 'd774f565b',\n",
            " 'commit_source': 'installation',\n",
            " 'default_encoding': 'UTF-8',\n",
            " 'ipython_path': '/anaconda3/lib/python3.7/site-packages/IPython',\n",
            " 'ipython_version': '7.4.0',\n",
            " 'os_name': 'posix',\n",
            " 'platform': 'Darwin-18.2.0-x86_64-i386-64bit',\n",
            " 'sys_executable': '/anaconda3/bin/python',\n",
            " 'sys_platform': 'darwin',\n",
            " 'sys_version': '3.7.3 (default, Mar 27 2019, 16:54:48) \\n'\n",
            "                '[Clang 4.0.1 (tags/RELEASE_401/final)]'}\n",
            "[NbConvertApp] Converting notebook FigureYa107ChIPheatmap.ipynb to html\n",
            "[NbConvertApp] Writing 290196 bytes to FigureYa107ChIPheatmap.html\n"
          ]
        }
      ],
      "source": [
        "import IPython\n",
        "print(IPython.sys_info())\n",
        "\n",
        "!jupyter nbconvert --to html FigureYa107ChIPheatmap.ipynb"
      ]
    },
    {
      "cell_type": "code",
      "execution_count": null,
      "metadata": {
        "id": "AvvjxARqeB_G"
      },
      "outputs": [],
      "source": []
    }
  ],
  "metadata": {
    "kernelspec": {
      "display_name": "Python (fresh_env)",
      "language": "python",
      "name": "fresh_env"
    },
    "language_info": {
      "codemirror_mode": {
        "name": "ipython",
        "version": 3
      },
      "file_extension": ".py",
      "mimetype": "text/x-python",
      "name": "python",
      "nbconvert_exporter": "python",
      "pygments_lexer": "ipython3",
      "version": "3.10.17"
    },
    "colab": {
      "provenance": []
    }
  },
  "nbformat": 4,
  "nbformat_minor": 0
}