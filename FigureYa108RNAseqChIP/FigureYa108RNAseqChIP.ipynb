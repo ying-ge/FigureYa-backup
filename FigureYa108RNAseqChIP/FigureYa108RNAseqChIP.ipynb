{
 "cells": [
  {
   "cell_type": "markdown",
   "metadata": {},
   "source": [
    "# FigureYa108RNAseqChIP\n",
    "\n",
    "title: \"FigureYa108RNAseqChIP\"\n",
    "author: \"Long Zhao, Taojun Ye\"\n",
    "reviewer: \"Ying Ge\"\n",
    "date: \"2025-5-20\"\n",
    "output: html_document\n",
    "\n",
    "## 需求描述\n",
    "\n",
    "已知RNA-seq表达谱聚类的顺序，按这个顺序排列，画出基因启动子区的ChIP-seq信号。\n",
    "\n",
    "![](example.png)\n",
    "\n",
    "出自：<http://genesdev.cshlp.org/content/32/2/96.long>\n",
    "\n",
    "对这篇文章的解读：<https://mp.weixin.qq.com/s/zmf0GMdGZqNxseFZKHooOw>\n",
    "\n",
    "##Requirement description\n",
    "\n",
    "Given the clustering order of RNA seq expression profiles, arrange them in this order and draw the ChIP seq signal of the gene promoter region.\n",
    "\n",
    "![](example.png)\n",
    "\n",
    "From:< http://genesdev.cshlp.org/content/32/2/96.long >\n",
    "\n",
    "Interpretation of this article:< https://mp.weixin.qq.com/s/zmf0GMdGZqNxseFZKHooOw >\n",
    "\n",
    "## 应用场景\n",
    "\n",
    "不仅限于按RNA-seq的聚类顺序排ChIP-seq，还可以按其他分组来排ATAC-seq或ChIP-seq，进而发现规律。\n",
    "\n",
    "如果自己只测了RNA-seq数据，还可以找些ChIP-seq/ATAC-seq的公共数据来丰富文章内容，按这个画法，能深挖出更多规律。\n",
    "\n",
    "##Application scenarios\n",
    "\n",
    "Not limited to sorting ChIP seq according to the clustering order of RNA seq, ATAC seq or ChIP seq can also be sorted according to other groups to discover patterns.\n",
    "\n",
    "If you only test RNA seq data, you can also find some public ChIP seq/ATAC seq data to enrich the content of the article. Using this method, you can dig out more patterns.\n",
    "\n",
    "## 环境设置\n",
    "\n",
    "下载并安装Anaconda发行版，https://www.anaconda.com/distribution/#download-section\n",
    "\n",
    "用Jupyter notebook打开FigureYa107ChIPheatmap.ipynb文档\n",
    "\n",
    "**用法参考这篇：**<https://mp.weixin.qq.com/s/G-CQhNEJBmMRuDe2kxND_w>\n",
    "\n",
    "通过conda安装deeptools：\n",
    "\n",
    "##Environment settings\n",
    "\n",
    "Download and install the Anaconda distribution, https://www.anaconda.com/distribution/#download -section\n",
    "\n",
    "Open the FigureYa107ChIPheatmap.ipynb document with Jupyter notebook\n",
    "\n",
    "**Refer to this article for usage:**< https://mp.weixin.qq.com/s/G-CQhNEJBmMRuDe2kxND_w >\n",
    "\n",
    "Install Deeptools through conda:"
   ]
  },
  {
   "cell_type": "code",
   "execution_count": 5,
   "metadata": {},
   "outputs": [],
   "source": [
    "!conda install -c bioconda deeptools"
   ]
  },
  {
   "cell_type": "markdown",
   "metadata": {},
   "source": [
    "## 输入数据的准备\n",
    "\n",
    "需要准备以下文件：\n",
    "\n",
    "bw，此处以例文的ChIP-seq为例，还可以是ATAC-seq、DNase-seq、MNase-seq等等\n",
    "\n",
    "peak.bed，每个bw对应的peak，前第三列代表peak的位置，第四列代表peak的长度。\n",
    "\n",
    "join.txt，分组信息，此处按基因表达模式分类，根据例文的TABLE S1整理而成。第一列为原文中的cluster，还可以是其他有意义的分类；第二列为基因ID，无所谓什么ID，只要唯一就行。\n",
    "\n",
    "gene.bed，每个基因在染色体上的位置，根据例文的TABLE S1整理而成。前三列为基因染色体位置，第四列是cluster，第五列是基因名。\n",
    "\n",
    "bw文件跟FigureYa107ChIPheatmap的输入相同。如果你的ChIP-seq数据已经保存为bw文件，并且有相应的peak.bed文件，就可以跳过这步，直接进入“把peak注释到基因上”。\n",
    "\n",
    "##Preparation of input data\n",
    "\n",
    "The following documents need to be prepared:\n",
    "\n",
    "bw， Here, taking ChIP seq from the example text as an example, it can also be ATAC seq, DNase seq, MNase seq, and so on\n",
    "\n",
    "peak.bed， The peak corresponding to each BW, with the first third column representing the position of the peak and the fourth column representing the length of the peak.\n",
    "\n",
    "join.txt， Grouping information, classified by gene expression patterns here, organized according to Table S1 in the example text. The first column is the cluster in the original text, which can also be other meaningful classifications; The second column is the gene ID, it doesn't matter what ID it is, as long as it is unique.\n",
    "\n",
    "gene.bed， The position of each gene on the chromosome is organized according to Table S1 in the example text. The first three columns represent the chromosomal positions of genes, the fourth column represents clusters, and the fifth column represents gene names.\n",
    "\n",
    "The bw file has the same input as FigureYa107ChIPheatmap. If your ChIP seq data has already been saved as a bw file and there is a corresponding peak.bed file, you can skip this step and directly enter \"Annotate Peaks to Genes\".\n",
    "\n",
    "### 数据下载\n",
    "\n",
    "测序数据在发表文章时，作者会把数据上传到GEO/SRA数据库，GEO里除了原始的fastq文件外，往往还会提供bigwig（bw）文件、或bedGraph文件，以及peak.bed文件等等。\n",
    "\n",
    "**哪些数据更靠谱？**推荐首选高影响因子的文章里的数据，快速查询高分数据的方式，可参考FigureYa104GEOmining。\n",
    "\n",
    "例文的数据链接：<https://www.ncbi.nlm.nih.gov/geo/query/acc.cgi?acc=GSE107242>，点击Download中的(custom)，选择以下文件下载：\n",
    "\n",
    "###Data Download\n",
    "\n",
    "When publishing sequencing data, authors will upload the data to the GEO/SRA database. In addition to the original fastq file, GEO often provides bigwig (bw) files, bedGraph files, peak.bed files, and so on.\n",
    "\n",
    "**Which data is more reliable? **Recommend selecting data from articles with high impact factors, and refer to Figure Ya104 GEOmining for a quick way to query high scoring data.\n",
    "\n",
    "Data link for example text:< https://www.ncbi.nlm.nih.gov/geo/query/acc.cgi?acc=GSE107242 >Click on (custom) in Download and select the following file to download:\n",
    "\n",
    "GSM2863142_Input_NO14_24_mm9.bedGraph.gz\n",
    "\n",
    "GSM2863147_EBF1_NO14_24_mm9.bedGraph.gz\n",
    "\n",
    "GSM2863148_EBF1_NO14_72_mm9.bedGraph.gz\n",
    "\n",
    "GSM2863149_EBF1_NO14_cd19pos_mm9.bedGraph.gz\n",
    "\n",
    "### 转换bedgraph到bigwig文件\n",
    "\n",
    "原文给出的是bedgraph文件，需要转换成bigwig文件。用的是UCSC的bedGraphToBigWig，用法参考这里的Example 3：\n",
    "<http://genome.ucsc.edu/goldenPath/help/bigWig.html>\n",
    "\n",
    "下载工具：bedGraphToBigWig，根据自己的系统选择合适的版本\n",
    "\n",
    "###Convert bedgraph to bigwig file\n",
    "\n",
    "The original text provides a bedgraph file, which needs to be converted into a bigwig file. I am using UCSC's bedGraphToBigWig, refer to Example 3 for usage here:< http://genome.ucsc.edu/goldenPath/help/bigWig.html >\n",
    "\n",
    "Download tool: bedGraphToBigWig, choose the appropriate version according to your own system"
   ]
  },
  {
   "cell_type": "code",
   "execution_count": 6,
   "metadata": {},
   "outputs": [],
   "source": [
    "#我用wget下载，你也可以复制粘贴地址，直接从浏览器下载\n",
    "\n",
    "#I downloaded it using wget, but you can also copy and paste the address and download it directly from the browser\n",
    "!wget http://hgdownload.soe.ucsc.edu/admin/exe/linux.x86_64/bedGraphToBigWig\n",
    "!wget http://hgdownload.soe.ucsc.edu/admin/exe/macOSX.x86_64/bedGraphToBigWig\n",
    "!chmod 775 bedGraphToBigWig"
   ]
  },
  {
   "cell_type": "markdown",
   "metadata": {},
   "source": [
    "有可能需要添加环境变量\n",
    "\n",
    "下载mm9的染色体长度的文件\n",
    "\n",
    "It may be necessary to add environment variables\n",
    "\n",
    "Download the file of chromosome length for mm9"
   ]
  },
  {
   "cell_type": "code",
   "execution_count": 1,
   "metadata": {},
   "outputs": [
    {
     "name": "stdout",
     "output_type": "stream",
     "text": [
      "--2025-06-06 15:17:33--  http://hgdownload.cse.ucsc.edu/goldenPath/mm9/bigZips/mm9.chrom.sizes\n",
      "128.114.119.163nload.cse.ucsc.edu (hgdownload.cse.ucsc.edu)... \n",
      "connected. to hgdownload.cse.ucsc.edu (hgdownload.cse.ucsc.edu)|128.114.119.163|:80... \n",
      "200 OKequest sent, awaiting response... \n",
      "Length: 584\n",
      "Saving to: ‘mm9.chrom.sizes’\n",
      "\n",
      "mm9.chrom.sizes     100%[===================>]     584  --.-KB/s    in 0s      \n",
      "\n",
      "2025-06-06 15:17:40 (79.6 MB/s) - ‘mm9.chrom.sizes’ saved [584/584]\n",
      "\n"
     ]
    }
   ],
   "source": [
    "!wget http://hgdownload.cse.ucsc.edu/goldenPath/mm9/bigZips/mm9.chrom.sizes"
   ]
  },
  {
   "cell_type": "markdown",
   "metadata": {},
   "source": [
    "现在就可以把ChIP-seq的bedGraph文件转成bw了：\n",
    "\n",
    "Now you can convert the ChIP seq bedGraph file to bw:"
   ]
  },
  {
   "cell_type": "code",
   "execution_count": 2,
   "metadata": {},
   "outputs": [
    {
     "name": "stdout",
     "output_type": "stream",
     "text": [
      "zsh:1: no matches found: *.bedGraph\n"
     ]
    }
   ],
   "source": [
    "!for file in *.bedGraph; do sort -k1,1 -k2,2n $file > $file.sorted.bedGraph; bedGraphToBigWig $file.sorted.bedGraph mm9.chrom.sizes $file.bw; rm $file.sorted.bedGraph; done\n"
   ]
  },
  {
   "cell_type": "markdown",
   "metadata": {},
   "source": [
    "### 获得peak.bed\n",
    "\n",
    "可以跳过这步，直接用我跑好的peak.bed文件\n",
    "\n",
    "文章没有提供每个样品的peak文件，找peak不是这里的重点，就不从头跑了。仅从文章提供的bedgraph文件开始做，定义EBF1 ChIP-seq较高的位置为peak，作为示例文件。有点粗糙，但足够用于展示需求描述所需解决的问题。\n",
    "\n",
    "###Get peak.bed\n",
    "\n",
    "You can skip this step and directly use the peak.bed file that I have run\n",
    "\n",
    "The article did not provide a peak file for each sample, so finding the peak is not the focus here, so we won't start from scratch. Starting from the bedgraph file provided in the article, define the higher position of EBF1 ChIP seq as peak as an example file. A bit rough, but sufficient to demonstrate the problem that needs to be solved in the requirement description."
   ]
  },
  {
   "cell_type": "code",
   "execution_count": 26,
   "metadata": {},
   "outputs": [],
   "source": [
    "!for file in GSM*_EBF1_*.bedGraph; do awk '$4> 30 {print}' OFS=\"\\t\" $file | sort -k1,1V -k2,2n -k3,3n | bedtools merge -i - | awk '{print $1,$2,$3,$3-$2}' OFS=\"\\t\"| awk '$4<4000{ print }' OFS=\"\\t\" > $file.peak.bed; done\n"
   ]
  },
  {
   "cell_type": "markdown",
   "metadata": {},
   "source": [
    "**附：**正常的做法是用MACS从每个样本的bam文件里call出peak.bed，例如：\n",
    "\n",
    "**Attachment: * * The normal practice is to use MACS to call peak.bed from the BAM file of each sample, for example:\n",
    "\n",
    "```bash\n",
    "macs2 callpeak -c Input.bam -t treatment.bam -q 0.05 -f BAM -g mm -n treatment 2> treatment.macs2.log\n",
    "```"
   ]
  },
  {
   "cell_type": "markdown",
   "metadata": {},
   "source": [
    "## 把peak注释到基因上\n",
    "\n",
    "##Annotate peak onto genes"
   ]
  },
  {
   "cell_type": "code",
   "execution_count": 5,
   "metadata": {},
   "outputs": [],
   "source": [
    "# 通过conda安装bedtools\n",
    "\n",
    "#Installing Bedtools through Conda\n",
    "!conda install -c bioconda bedtools\n",
    "\n",
    "!for file in GSM*_EBF1_*.bedGraph.peak.bed; do windowBed -a gene.bed -b $file -w 3000 -sm | sort -k9,9nr |sort -k5,5n -u |awk '{print $6,$7,$8,$4,$5}' OFS=\"\\t\" > $file.gene.bed; done\n"
   ]
  },
  {
   "cell_type": "markdown",
   "metadata": {},
   "source": [
    "**对上面这行命令的说明：**\n",
    "\n",
    "windowBed -a gene.bed -b 24_EBF1.bed -w 3000 -sm：这一步用于把和目的基因上下游3K的peak找出来。\n",
    "\n",
    "sort -k9,9nr 24_gene.bed |sort -k5,5n -u ：这一步是对找到的peak进行排序，并保留每个基因peak长度最长的peak。\n",
    "\n",
    "awk '{print $6,$7,$8,$4,$5}' OFS=\"\\t\" ：这一步是输出peak的位置。\n",
    "\n",
    "由于个人习惯，所以添加的管道“|”较多，练习时可以拆分出来，一步生成一个中间文件，这样就可以查看每一步骤的作用。\n",
    "\n",
    "输出文件的前三列为目的peak的位置，第四列为该peak靶基因的cluster，第五列为靶基因的基因名。\n",
    "\n",
    "**Explanation of the above command:**\n",
    "\n",
    "WindowBed - a gene.bed - b 24-EBF1. bed-w 3000 sm: This step is used to find the peak upstream and downstream 3K of the target gene.\n",
    "\n",
    "Sort-k9,9nr 24_gene.bed | sort-k5,5n-u: This step is to sort the found peaks and retain the longest peak length for each gene peak.\n",
    "\n",
    "Awk '{print $6, $7, $8, $4, $5}' OFS=\"\\ t\": This step is to output the position of the peak.\n",
    "\n",
    "Due to personal habits, there are many pipelines' | 'added. During practice, they can be separated to generate an intermediate file in one step, so that the purpose of each step can be viewed.\n",
    "\n",
    "The first three columns of the output file are the location of the target peak, the fourth column is the cluster of the target gene for that peak, and the fifth column is the gene name of the target gene."
   ]
  },
  {
   "cell_type": "code",
   "execution_count": 24,
   "metadata": {},
   "outputs": [
    {
     "name": "stdout",
     "output_type": "stream",
     "text": [
      "chr4\t151528169\t151528241\tD1\t6\r\n",
      "chr7\t31836080\t31836262\tD1\t9\r\n",
      "chr17\t12698193\t12698413\tD1\t21\r\n",
      "chr1\t74847327\t74847387\tD1\t22\r\n",
      "chr5\t40022331\t40022495\tD1\t24\r\n",
      "chr14\t54771857\t54772068\tD1\t27\r\n",
      "chr13\t55572915\t55573102\tD1\t28\r\n",
      "chr15\t102055683\t102055916\tD1\t32\r\n",
      "chr7\t123389241\t123389290\tD1\t36\r\n",
      "chr4\t128634457\t128634607\tD1\t43\r\n"
     ]
    }
   ],
   "source": [
    "!head GSM2863149_EBF1_NO14_cd19pos_mm9.bedGraph.peak.bed.gene.bed"
   ]
  },
  {
   "cell_type": "code",
   "execution_count": null,
   "metadata": {},
   "outputs": [],
   "source": [
    "## 把三个样品的peak merge到一起，并且保证每个基因只有一个peak保留下来\n",
    "\n",
    "##Merge the peaks of the three samples together and ensure that only one peak is retained for each gene\n",
    "!cat GSM*_EBF1_*.bedGraph.peak.bed.gene.bed | sort -k1,1V -k2,2n -k3,3n |bedtools merge -i - -c 5 -o collapse | awk -F \",\" '{print $1}' OFS=\"\\t\" |  sort -k4,4n -u > all.unique.bed\n"
   ]
  },
  {
   "cell_type": "markdown",
   "metadata": {},
   "source": [
    "**对上面这行命令的说明：**\n",
    "\n",
    "cat 24.bed 72.bed prob.bed | sort -k1,1V -k2,2n -k3,3n：把三个样品的peak cat起来并排序（因为bedtools要输入sorted bed）。\n",
    "\n",
    "bedtools merge -i - -c 5 -o collapse ：把三个样品的peak merge到一起（-c 5 -o collapse，输出基因名）\n",
    "\n",
    "awk -F \",\" '{print $1}' OFS=\"\\t\" |  sort -k4,4n -u ：输出基因唯一的peak，并按照基因名排序。\n",
    "\n",
    "输出文件的前三列为基因的蛋白结合位点，第四列为基因名。\n",
    "\n",
    "**Explanation of the above command:**\n",
    "\n",
    "Cat 24. bed 72. bed prob.bed | sort-k1,1V - k2,2n - k3,3n: Cat the peaks of the three samples and sort them (because bedtools needs to input sorted bed).\n",
    "\n",
    "Bedtools merge - i -- c 5- o collapse: Merge the peaks of three samples together (- c 5- o collapse, output gene name)\n",
    "\n",
    "Awk-F \",\" {print $1} 'OFS=\"\\ t\" | sort k4,4n-u: Output the unique peak of the gene and sort it by gene name.\n",
    "\n",
    "The first three columns of the output file are the protein binding sites of the gene, and the fourth column is the gene name."
   ]
  },
  {
   "cell_type": "code",
   "execution_count": 23,
   "metadata": {},
   "outputs": [
    {
     "name": "stdout",
     "output_type": "stream",
     "text": [
      "chr16\t48431924\t48432112\t2\r\n",
      "chr4\t151528167\t151528241\t6\r\n",
      "chr7\t31836052\t31836313\t9\r\n",
      "chr5\t113303134\t113303628\t12\r\n",
      "chr5\t113423647\t113423828\t19\r\n",
      "chr17\t12637526\t12637754\t21\r\n",
      "chr1\t74847200\t74847485\t22\r\n",
      "chr6\t52162624\t52162841\t23\r\n",
      "chr5\t40022331\t40022503\t24\r\n",
      "chr14\t54771857\t54772122\t27\r\n"
     ]
    }
   ],
   "source": [
    "!head all.unique.bed"
   ]
  },
  {
   "cell_type": "markdown",
   "metadata": {},
   "source": [
    "## 准备deeptools 输入bed文件\n",
    "\n",
    "##Prepare Deeptools to input the bed file"
   ]
  },
  {
   "cell_type": "code",
   "execution_count": 27,
   "metadata": {},
   "outputs": [],
   "source": [
    "!awk '{print $1,$2,$3,$4,\".\",\".\",\".\",\".\",\".\",\".\",\".\",\".\",\".\"}' OFS=\"\\t\" all.unique.bed > all.new.bed\n",
    "!computeMatrix reference-point --referencePoint center -b 3000 -a 3000 --missingDataAsZero  --skipZeros -p 40 -R all.new.bed -S GSM2863142_Input_NO14_24_mm9.bedGraph.bw GSM2863147_EBF1_NO14_24_mm9.bedGraph.bw GSM2863148_EBF1_NO14_72_mm9.bedGraph.bw GSM2863149_EBF1_NO14_cd19pos_mm9.bedGraph.bw -o nom.gz\n",
    "!plotHeatmap -m nom.gz -out heatmap-pre.pdf --kmeans 5 --outFileSortedRegions Heatmap1sortedRegions.bed\n"
   ]
  },
  {
   "cell_type": "markdown",
   "metadata": {},
   "source": [
    "忽略输出的heatmap-pre.pdf。我们要的是输出的Heatmap1sortedRegions.bed文件。\n",
    "\n",
    "Ignore the output heatmap-pre.gdf. What we need is the output Heatmap1sortedRegions.bed file."
   ]
  },
  {
   "cell_type": "code",
   "execution_count": 9,
   "metadata": {},
   "outputs": [
    {
     "name": "stdout",
     "output_type": "stream",
     "text": [
      "#chrom\tstart\tend\tname\tscore\tstrand\tthickStart\tthickEnd\titemRGB\tblockCount\tblockSizes\tblockStart\tdeepTools_group\r\n",
      "chr5\t113303134\t113303628\t12\t.\t.\t113303134\t113303628\t0\t1\t494\t113303133\tcluster_1\r\n",
      "chr8\t129356284\t129356849\t95\t.\t.\t129356284\t129356849\t0\t1\t565\t129356283\tcluster_2\r\n",
      "chr9\t37375758\t37376110\t102\t.\t.\t37375758\t37376110\t0\t1\t352\t37375755\tcluster_2\r\n",
      "chr15\t102055604\t102055985\t32\t.\t.\t102055604\t102055985\t0\t1\t381\t102055603\tcluster_2\r\n",
      "chr16\t23144405\t23144745\t83\t.\t.\t23144405\t23144745\t0\t1\t340\t23144403\tcluster_2\r\n",
      "chr6\t52171748\t52172100\t141\t.\t.\t52171748\t52172100\t0\t1\t352\t52171743\tcluster_2\r\n",
      "chr11\t11464265\t11464584\t131\t.\t.\t11464265\t11464584\t0\t1\t319\t11464264\tcluster_2\r\n",
      "chr11\t114584345\t114584682\t137\t.\t.\t114584345\t114584682\t0\t1\t337\t114584344\tcluster_2\r\n",
      "chr13\t96388460\t96388805\t125\t.\t.\t96388460\t96388805\t0\t1\t345\t96388451\tcluster_2\r\n"
     ]
    }
   ],
   "source": [
    "!head Heatmap1sortedRegions.bed"
   ]
  },
  {
   "cell_type": "markdown",
   "metadata": {},
   "source": [
    "把Heatmap1sortedRegions.bed文件中的deepTools_group一列替换成例文中基因的cluster，即D1,D2,D3,D4。\n",
    "\n",
    "这里用R的merge函数完成替换，把命令写进R脚本mergeInR.R文件里，位于当前文件夹。\n",
    "\n",
    "当然你可也可通过linux自带的函数join来实现（join对文件顺序要求比较高，而且容易有bug）。\n",
    "\n",
    "Replace the deepTools_group column in the Heatmap1sortedRegions.bed file with the gene clusters in the example text, namely D1, D2, D3, D4.\n",
    "\n",
    "Here, use R's merge function to complete the replacement, write the command into the R script merge in R.R file, located in the current folder.\n",
    "\n",
    "Of course, you can also implement it through the Linux built-in function 'join' (which requires high file order and is prone to bugs)."
   ]
  },
  {
   "cell_type": "code",
   "execution_count": 13,
   "metadata": {},
   "outputs": [
    {
     "name": "stdout",
     "output_type": "stream",
     "text": [
      "aa <- read.table(\"Heatmap1sortedRegions.bed\",head=F)\r\n",
      "bb <- read.table(\"join.txt\",head=F)\r\n",
      "cc <- merge(aa,bb,by.x=\"V4\",by.y=\"V2\")\r\n",
      "dd <- cc[,c(2,3,4,1,5:12,14)]\r\n",
      "head(dd)\r\n",
      "write.table(dd,\"xx.bed\",sep=\"\\t\",quote=F,row.names=F,col.name=F)\r\n"
     ]
    }
   ],
   "source": [
    "!head mergeInR.R"
   ]
  },
  {
   "cell_type": "code",
   "execution_count": 28,
   "metadata": {},
   "outputs": [],
   "source": [
    "# 运行上面的R脚本\n",
    "\n",
    "#Run the R script above\n",
    "!R CMD BATCH mergeInR.R"
   ]
  },
  {
   "cell_type": "markdown",
   "metadata": {},
   "source": [
    "最后把Heatmap1sortedRegions.bed的第一行粘上去。\n",
    "\n",
    "Finally, paste the first line of Heatmap1sortedRegions.bed."
   ]
  },
  {
   "cell_type": "code",
   "execution_count": 29,
   "metadata": {},
   "outputs": [],
   "source": [
    "!head -1 Heatmap1sortedRegions.bed | cat - xx.bed > yy.bed"
   ]
  },
  {
   "cell_type": "markdown",
   "metadata": {},
   "source": [
    "## 开始画图\n",
    "\n",
    "按join.txt里的基因的分类（已经保存在yy.bed文件中）给ChIP-seq信号分类，每类内部再聚类。\n",
    "\n",
    "具体参数的调整看这里：<https://deeptools.readthedocs.io/en/develop/content/tools/plotHeatmap.html?highlight=plotHeatmap>\n",
    "\n",
    "##Start drawing\n",
    "\n",
    "Classify ChIP seq signals according to the gene classification in join.txt (already saved in the yy.bed file), and then cluster within each category.\n",
    "\n",
    "Specific parameter adjustments can be found here:< https://deeptools.readthedocs.io/en/develop/content/tools/plotHeatmap.html?highlight=plotHeatmap >"
   ]
  },
  {
   "cell_type": "code",
   "execution_count": 30,
   "metadata": {},
   "outputs": [],
   "source": [
    "!computeMatrix reference-point --referencePoint center -b 3000 -a 3000 --missingDataAsZero  --skipZeros -p 40 -R yy.bed -S GSM2863142_Input_NO14_24_mm9.bedGraph.bw GSM2863147_EBF1_NO14_24_mm9.bedGraph.bw GSM2863148_EBF1_NO14_72_mm9.bedGraph.bw GSM2863149_EBF1_NO14_cd19pos_mm9.bedGraph.bw -o nom.gz\n",
    "!plotHeatmap -m nom.gz -out heatmap.pdf --heatmapWidth 4 --heatmapHeight 10 --whatToShow \"heatmap and colorbar\" --zMax 100 --samplesLabel 0hrs 24hrs 72hrs pro-B\n",
    "#如果想画average profile，就删掉：--whatToShow \"heatmap and colorbar\"\n",
    "#如果想保留基因在gene.bed文件中的顺序，就加上：--sortRegions keep\n",
    "\n",
    "#If you want to draw an average profile, delete: -- whatoShow \"heatmap and colorbar\" \n",
    "# If you want to preserve the order of genes in the gene.bed file, add: -- sortRegions keep"
   ]
  },
  {
   "cell_type": "markdown",
   "metadata": {},
   "source": [
    "生成的图在heatmap.pdf文件里，是矢量图，可以用Illustrator等软件编辑图形、文字等。\n",
    "\n",
    "The generated image is in the heatmap.ddf file and is a vector image that can be edited with software such as Illustrator for graphics, text, etc."
   ]
  },
  {
   "cell_type": "code",
   "execution_count": 1,
   "metadata": {},
   "outputs": [
    {
     "name": "stdout",
     "output_type": "stream",
     "text": [
      "{'commit_hash': 'd774f565b',\n",
      " 'commit_source': 'installation',\n",
      " 'default_encoding': 'UTF-8',\n",
      " 'ipython_path': '/anaconda3/lib/python3.7/site-packages/IPython',\n",
      " 'ipython_version': '7.4.0',\n",
      " 'os_name': 'posix',\n",
      " 'platform': 'Darwin-18.2.0-x86_64-i386-64bit',\n",
      " 'sys_executable': '/anaconda3/bin/python',\n",
      " 'sys_platform': 'darwin',\n",
      " 'sys_version': '3.7.3 (default, Mar 27 2019, 16:54:48) \\n'\n",
      "                '[Clang 4.0.1 (tags/RELEASE_401/final)]'}\n",
      "[NbConvertApp] Converting notebook FigureYa108RNAseqChIP.ipynb to html\n",
      "[NbConvertApp] Writing 295940 bytes to FigureYa108RNAseqChIP.html\n"
     ]
    }
   ],
   "source": [
    "import IPython\n",
    "print(IPython.sys_info())\n",
    "\n",
    "!jupyter nbconvert --to html FigureYa108RNAseqChIP.ipynb"
   ]
  },
  {
   "cell_type": "code",
   "execution_count": null,
   "metadata": {},
   "outputs": [],
   "source": []
  }
 ],
 "metadata": {
  "kernelspec": {
   "display_name": "Python (fresh_env)",
   "language": "python",
   "name": "fresh_env"
  },
  "language_info": {
   "codemirror_mode": {
    "name": "ipython",
    "version": 3
   },
   "file_extension": ".py",
   "mimetype": "text/x-python",
   "name": "python",
   "nbconvert_exporter": "python",
   "pygments_lexer": "ipython3",
   "version": "3.10.17"
  }
 },
 "nbformat": 4,
 "nbformat_minor": 4
}
